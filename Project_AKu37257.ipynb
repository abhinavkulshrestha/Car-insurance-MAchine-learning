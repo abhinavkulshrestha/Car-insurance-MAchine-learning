{
 "cells": [
  {
   "cell_type": "markdown",
   "id": "b0073b72",
   "metadata": {},
   "source": [
    "## CSIS 3290 – 001 – Term Project\n",
    "### Name- Abhinav Kulshrestha\n",
    "### Student ID- 300337257"
   ]
  },
  {
   "cell_type": "markdown",
   "id": "65cd67ee",
   "metadata": {},
   "source": [
    "### Brief Introduction : \n",
    "The dataset we are using here is of Automobiles and their characteristics and their performance ratings i.e drive-wheels,maker etc.\n",
    "We are going to use this data in order to predict the insurance allotted to the automobiles justified by their characteristics"
   ]
  },
  {
   "cell_type": "markdown",
   "id": "165834f5",
   "metadata": {},
   "source": [
    "#### importing Libraries"
   ]
  },
  {
   "cell_type": "code",
   "execution_count": 1,
   "id": "1d2733e7",
   "metadata": {},
   "outputs": [],
   "source": [
    "import numpy as np\n",
    "import pandas as pd\n",
    "import seaborn as sb\n",
    "from scipy.stats import norm\n",
    "import numpy as np\n",
    "import pandas as pd\n",
    "import seaborn as seab\n",
    "from scipy.stats import norm\n",
    "import matplotlib.pyplot as plt\n",
    "from sklearn.feature_selection import VarianceThreshold, SelectKBest, f_regression\n",
    "from sklearn.model_selection import train_test_split\n",
    "from sklearn.preprocessing import PolynomialFeatures, MinMaxScaler, StandardScaler,RobustScaler\n",
    "from sklearn.metrics import mean_squared_error\n",
    "from sklearn.linear_model import LinearRegression"
   ]
  },
  {
   "cell_type": "markdown",
   "id": "9ffeadcf",
   "metadata": {},
   "source": [
    "#### 1.Data cleaning and Transformation of Dataset"
   ]
  },
  {
   "cell_type": "code",
   "execution_count": 2,
   "id": "3277b796",
   "metadata": {},
   "outputs": [],
   "source": [
    "headers = [\"symboling\", \"normalized-losses\",\"make\", \"fuel-type\",\"aspiration\", \"num-of-doors\", \"body-style\",\n",
    "\"drive-wheels\", \"engine-location\", \"wheel-base\", \"length\", \"width\", \"height\",\"curb-weight\", \"engine-type\",\n",
    "\"num-of-cylinders\", \"engine-size\",\"fuel-system\", \"bore\",\"stroke\", \"compression-ratio\", \"horsepower\",\n",
    "\"peak-rpm\",\"city-mpg\", \"highway-mpg\",\"price\"] #Assigning column labels\n",
    "\n",
    "\n",
    "\n",
    "df = pd.read_csv('Dataset/imports-85.data',names = headers)"
   ]
  },
  {
   "cell_type": "code",
   "execution_count": 3,
   "id": "645bd4a9",
   "metadata": {},
   "outputs": [
    {
     "data": {
      "text/html": [
       "<div>\n",
       "<style scoped>\n",
       "    .dataframe tbody tr th:only-of-type {\n",
       "        vertical-align: middle;\n",
       "    }\n",
       "\n",
       "    .dataframe tbody tr th {\n",
       "        vertical-align: top;\n",
       "    }\n",
       "\n",
       "    .dataframe thead th {\n",
       "        text-align: right;\n",
       "    }\n",
       "</style>\n",
       "<table border=\"1\" class=\"dataframe\">\n",
       "  <thead>\n",
       "    <tr style=\"text-align: right;\">\n",
       "      <th></th>\n",
       "      <th>symboling</th>\n",
       "      <th>normalized-losses</th>\n",
       "      <th>make</th>\n",
       "      <th>fuel-type</th>\n",
       "      <th>aspiration</th>\n",
       "      <th>num-of-doors</th>\n",
       "      <th>body-style</th>\n",
       "      <th>drive-wheels</th>\n",
       "      <th>engine-location</th>\n",
       "      <th>wheel-base</th>\n",
       "      <th>...</th>\n",
       "      <th>engine-size</th>\n",
       "      <th>fuel-system</th>\n",
       "      <th>bore</th>\n",
       "      <th>stroke</th>\n",
       "      <th>compression-ratio</th>\n",
       "      <th>horsepower</th>\n",
       "      <th>peak-rpm</th>\n",
       "      <th>city-mpg</th>\n",
       "      <th>highway-mpg</th>\n",
       "      <th>price</th>\n",
       "    </tr>\n",
       "  </thead>\n",
       "  <tbody>\n",
       "    <tr>\n",
       "      <th>0</th>\n",
       "      <td>3</td>\n",
       "      <td>?</td>\n",
       "      <td>alfa-romero</td>\n",
       "      <td>gas</td>\n",
       "      <td>std</td>\n",
       "      <td>two</td>\n",
       "      <td>convertible</td>\n",
       "      <td>rwd</td>\n",
       "      <td>front</td>\n",
       "      <td>88.6</td>\n",
       "      <td>...</td>\n",
       "      <td>130</td>\n",
       "      <td>mpfi</td>\n",
       "      <td>3.47</td>\n",
       "      <td>2.68</td>\n",
       "      <td>9.0</td>\n",
       "      <td>111</td>\n",
       "      <td>5000</td>\n",
       "      <td>21</td>\n",
       "      <td>27</td>\n",
       "      <td>13495</td>\n",
       "    </tr>\n",
       "    <tr>\n",
       "      <th>1</th>\n",
       "      <td>3</td>\n",
       "      <td>?</td>\n",
       "      <td>alfa-romero</td>\n",
       "      <td>gas</td>\n",
       "      <td>std</td>\n",
       "      <td>two</td>\n",
       "      <td>convertible</td>\n",
       "      <td>rwd</td>\n",
       "      <td>front</td>\n",
       "      <td>88.6</td>\n",
       "      <td>...</td>\n",
       "      <td>130</td>\n",
       "      <td>mpfi</td>\n",
       "      <td>3.47</td>\n",
       "      <td>2.68</td>\n",
       "      <td>9.0</td>\n",
       "      <td>111</td>\n",
       "      <td>5000</td>\n",
       "      <td>21</td>\n",
       "      <td>27</td>\n",
       "      <td>16500</td>\n",
       "    </tr>\n",
       "    <tr>\n",
       "      <th>2</th>\n",
       "      <td>1</td>\n",
       "      <td>?</td>\n",
       "      <td>alfa-romero</td>\n",
       "      <td>gas</td>\n",
       "      <td>std</td>\n",
       "      <td>two</td>\n",
       "      <td>hatchback</td>\n",
       "      <td>rwd</td>\n",
       "      <td>front</td>\n",
       "      <td>94.5</td>\n",
       "      <td>...</td>\n",
       "      <td>152</td>\n",
       "      <td>mpfi</td>\n",
       "      <td>2.68</td>\n",
       "      <td>3.47</td>\n",
       "      <td>9.0</td>\n",
       "      <td>154</td>\n",
       "      <td>5000</td>\n",
       "      <td>19</td>\n",
       "      <td>26</td>\n",
       "      <td>16500</td>\n",
       "    </tr>\n",
       "    <tr>\n",
       "      <th>3</th>\n",
       "      <td>2</td>\n",
       "      <td>164</td>\n",
       "      <td>audi</td>\n",
       "      <td>gas</td>\n",
       "      <td>std</td>\n",
       "      <td>four</td>\n",
       "      <td>sedan</td>\n",
       "      <td>fwd</td>\n",
       "      <td>front</td>\n",
       "      <td>99.8</td>\n",
       "      <td>...</td>\n",
       "      <td>109</td>\n",
       "      <td>mpfi</td>\n",
       "      <td>3.19</td>\n",
       "      <td>3.40</td>\n",
       "      <td>10.0</td>\n",
       "      <td>102</td>\n",
       "      <td>5500</td>\n",
       "      <td>24</td>\n",
       "      <td>30</td>\n",
       "      <td>13950</td>\n",
       "    </tr>\n",
       "    <tr>\n",
       "      <th>4</th>\n",
       "      <td>2</td>\n",
       "      <td>164</td>\n",
       "      <td>audi</td>\n",
       "      <td>gas</td>\n",
       "      <td>std</td>\n",
       "      <td>four</td>\n",
       "      <td>sedan</td>\n",
       "      <td>4wd</td>\n",
       "      <td>front</td>\n",
       "      <td>99.4</td>\n",
       "      <td>...</td>\n",
       "      <td>136</td>\n",
       "      <td>mpfi</td>\n",
       "      <td>3.19</td>\n",
       "      <td>3.40</td>\n",
       "      <td>8.0</td>\n",
       "      <td>115</td>\n",
       "      <td>5500</td>\n",
       "      <td>18</td>\n",
       "      <td>22</td>\n",
       "      <td>17450</td>\n",
       "    </tr>\n",
       "  </tbody>\n",
       "</table>\n",
       "<p>5 rows × 26 columns</p>\n",
       "</div>"
      ],
      "text/plain": [
       "   symboling normalized-losses         make fuel-type aspiration num-of-doors  \\\n",
       "0          3                 ?  alfa-romero       gas        std          two   \n",
       "1          3                 ?  alfa-romero       gas        std          two   \n",
       "2          1                 ?  alfa-romero       gas        std          two   \n",
       "3          2               164         audi       gas        std         four   \n",
       "4          2               164         audi       gas        std         four   \n",
       "\n",
       "    body-style drive-wheels engine-location  wheel-base  ...  engine-size  \\\n",
       "0  convertible          rwd           front        88.6  ...          130   \n",
       "1  convertible          rwd           front        88.6  ...          130   \n",
       "2    hatchback          rwd           front        94.5  ...          152   \n",
       "3        sedan          fwd           front        99.8  ...          109   \n",
       "4        sedan          4wd           front        99.4  ...          136   \n",
       "\n",
       "   fuel-system  bore  stroke compression-ratio horsepower  peak-rpm city-mpg  \\\n",
       "0         mpfi  3.47    2.68               9.0        111      5000       21   \n",
       "1         mpfi  3.47    2.68               9.0        111      5000       21   \n",
       "2         mpfi  2.68    3.47               9.0        154      5000       19   \n",
       "3         mpfi  3.19    3.40              10.0        102      5500       24   \n",
       "4         mpfi  3.19    3.40               8.0        115      5500       18   \n",
       "\n",
       "  highway-mpg  price  \n",
       "0          27  13495  \n",
       "1          27  16500  \n",
       "2          26  16500  \n",
       "3          30  13950  \n",
       "4          22  17450  \n",
       "\n",
       "[5 rows x 26 columns]"
      ]
     },
     "execution_count": 3,
     "metadata": {},
     "output_type": "execute_result"
    }
   ],
   "source": [
    "df.head()"
   ]
  },
  {
   "cell_type": "code",
   "execution_count": 4,
   "id": "7cdd4250",
   "metadata": {},
   "outputs": [
    {
     "data": {
      "text/plain": [
       "symboling              int64\n",
       "normalized-losses     object\n",
       "make                  object\n",
       "fuel-type             object\n",
       "aspiration            object\n",
       "num-of-doors          object\n",
       "body-style            object\n",
       "drive-wheels          object\n",
       "engine-location       object\n",
       "wheel-base           float64\n",
       "length               float64\n",
       "width                float64\n",
       "height               float64\n",
       "curb-weight            int64\n",
       "engine-type           object\n",
       "num-of-cylinders      object\n",
       "engine-size            int64\n",
       "fuel-system           object\n",
       "bore                  object\n",
       "stroke                object\n",
       "compression-ratio    float64\n",
       "horsepower            object\n",
       "peak-rpm              object\n",
       "city-mpg               int64\n",
       "highway-mpg            int64\n",
       "price                 object\n",
       "dtype: object"
      ]
     },
     "execution_count": 4,
     "metadata": {},
     "output_type": "execute_result"
    }
   ],
   "source": [
    "df.dtypes\n"
   ]
  },
  {
   "cell_type": "code",
   "execution_count": 5,
   "id": "9bd3d71b",
   "metadata": {},
   "outputs": [
    {
     "data": {
      "text/plain": [
       "symboling            0\n",
       "normalized-losses    0\n",
       "make                 0\n",
       "fuel-type            0\n",
       "aspiration           0\n",
       "num-of-doors         0\n",
       "body-style           0\n",
       "drive-wheels         0\n",
       "engine-location      0\n",
       "wheel-base           0\n",
       "length               0\n",
       "width                0\n",
       "height               0\n",
       "curb-weight          0\n",
       "engine-type          0\n",
       "num-of-cylinders     0\n",
       "engine-size          0\n",
       "fuel-system          0\n",
       "bore                 0\n",
       "stroke               0\n",
       "compression-ratio    0\n",
       "horsepower           0\n",
       "peak-rpm             0\n",
       "city-mpg             0\n",
       "highway-mpg          0\n",
       "price                0\n",
       "dtype: int64"
      ]
     },
     "execution_count": 5,
     "metadata": {},
     "output_type": "execute_result"
    }
   ],
   "source": [
    "df.isnull().sum()\n",
    "#there are a lot of values that are null but is shown by \"?\""
   ]
  },
  {
   "cell_type": "code",
   "execution_count": 6,
   "id": "5fb1b46b",
   "metadata": {},
   "outputs": [],
   "source": [
    "df.replace(\"?\",np.nan,inplace = True) #replacing all \"?\" with nan"
   ]
  },
  {
   "cell_type": "code",
   "execution_count": 7,
   "id": "7f0a4f13",
   "metadata": {},
   "outputs": [
    {
     "data": {
      "text/plain": [
       "symboling             0\n",
       "normalized-losses    41\n",
       "make                  0\n",
       "fuel-type             0\n",
       "aspiration            0\n",
       "num-of-doors          2\n",
       "body-style            0\n",
       "drive-wheels          0\n",
       "engine-location       0\n",
       "wheel-base            0\n",
       "length                0\n",
       "width                 0\n",
       "height                0\n",
       "curb-weight           0\n",
       "engine-type           0\n",
       "num-of-cylinders      0\n",
       "engine-size           0\n",
       "fuel-system           0\n",
       "bore                  4\n",
       "stroke                4\n",
       "compression-ratio     0\n",
       "horsepower            2\n",
       "peak-rpm              2\n",
       "city-mpg              0\n",
       "highway-mpg           0\n",
       "price                 4\n",
       "dtype: int64"
      ]
     },
     "execution_count": 7,
     "metadata": {},
     "output_type": "execute_result"
    }
   ],
   "source": [
    "df.isnull().sum()"
   ]
  },
  {
   "cell_type": "code",
   "execution_count": 8,
   "id": "b7553be0",
   "metadata": {},
   "outputs": [],
   "source": [
    "df.dropna(axis=0,how='any',inplace=True) # Dropping all rows having any null values"
   ]
  },
  {
   "cell_type": "markdown",
   "id": "004a6a01",
   "metadata": {},
   "source": [
    "We will drop some columns that are not needed to determine the insurance price of the car as those factors dont come under the risk."
   ]
  },
  {
   "cell_type": "code",
   "execution_count": 9,
   "id": "6c3bd375",
   "metadata": {},
   "outputs": [],
   "source": [
    "df.drop(['num-of-cylinders','aspiration','peak-rpm',\"bore\",\"city-mpg\",\"highway-mpg\"],axis=\"columns\",inplace=True)\n"
   ]
  },
  {
   "cell_type": "code",
   "execution_count": 10,
   "id": "ad15e0b9",
   "metadata": {},
   "outputs": [
    {
     "data": {
      "text/plain": [
       "symboling              int64\n",
       "normalized-losses     object\n",
       "make                  object\n",
       "fuel-type             object\n",
       "num-of-doors          object\n",
       "body-style            object\n",
       "drive-wheels          object\n",
       "engine-location       object\n",
       "wheel-base           float64\n",
       "length               float64\n",
       "width                float64\n",
       "height               float64\n",
       "curb-weight            int64\n",
       "engine-type           object\n",
       "engine-size            int64\n",
       "fuel-system           object\n",
       "stroke                object\n",
       "compression-ratio    float64\n",
       "horsepower            object\n",
       "price                 object\n",
       "dtype: object"
      ]
     },
     "execution_count": 10,
     "metadata": {},
     "output_type": "execute_result"
    }
   ],
   "source": [
    "df.dtypes"
   ]
  },
  {
   "cell_type": "markdown",
   "id": "dbf0a082",
   "metadata": {},
   "source": [
    "#### Re-naming columns"
   ]
  },
  {
   "cell_type": "code",
   "execution_count": 11,
   "id": "948d665b",
   "metadata": {},
   "outputs": [],
   "source": [
    "df.rename(columns={'education-num': 'normalized_losses'}, inplace=True)\n",
    "df.rename(columns={'capital-gain': 'fuel_type'}, inplace=True)\n",
    "df.rename(columns={'num-of-doors': 'num_doors'}, inplace=True)\n",
    "df.rename(columns={'body-style': 'body_style'}, inplace=True)\n",
    "df.rename(columns={'drive-wheels': 'wheel_drive'}, inplace=True)\n",
    "df.rename(columns={'engine-location': 'Engine_location'}, inplace=True)\n",
    "df.rename(columns={'wheel-base': 'wheel_base'}, inplace=True)\n",
    "df.rename(columns={'curb-weight': 'curb_weight'}, inplace=True)\n",
    "df.rename(columns={'engine-type': 'engine_type'}, inplace=True)\n",
    "df.rename(columns={'num-of-cylinders': 'num_of_cylinders'}, inplace=True)\n",
    "df.rename(columns={'fuel-system': 'fuel_system'}, inplace=True)\n",
    "df.rename(columns={'compression-ratio': 'compression_ratio'}, inplace=True)\n",
    "df.rename(columns={'normalized-losses': 'normalized_losses'}, inplace=True)\n",
    "df.rename(columns={'fuel-type': 'fuel_type'}, inplace=True)"
   ]
  },
  {
   "cell_type": "code",
   "execution_count": 12,
   "id": "d366f6fd",
   "metadata": {},
   "outputs": [],
   "source": [
    "df.wheel_drive = df.wheel_drive.str.replace(\"4\",\"f\") #keeping alphabetical only"
   ]
  },
  {
   "cell_type": "markdown",
   "id": "61beed1b",
   "metadata": {},
   "source": [
    "counting unique value for each columns"
   ]
  },
  {
   "cell_type": "code",
   "execution_count": 13,
   "id": "14b4b885",
   "metadata": {},
   "outputs": [
    {
     "data": {
      "text/plain": [
       "toyota           31\n",
       "nissan           18\n",
       "honda            13\n",
       "subaru           12\n",
       "mazda            11\n",
       "volvo            11\n",
       "mitsubishi       10\n",
       "dodge             8\n",
       "volkswagen        8\n",
       "peugot            7\n",
       "plymouth          6\n",
       "saab              6\n",
       "mercedes-benz     5\n",
       "bmw               4\n",
       "audi              4\n",
       "chevrolet         3\n",
       "jaguar            1\n",
       "porsche           1\n",
       "Name: make, dtype: int64"
      ]
     },
     "execution_count": 13,
     "metadata": {},
     "output_type": "execute_result"
    }
   ],
   "source": [
    "df.make.value_counts()"
   ]
  },
  {
   "cell_type": "code",
   "execution_count": 14,
   "id": "51120bf0",
   "metadata": {},
   "outputs": [],
   "source": [
    "df.loc[df['make'].str.contains('(?i)porsche|jaguar'),'make'] = 'Elite'"
   ]
  },
  {
   "cell_type": "code",
   "execution_count": 15,
   "id": "f496431c",
   "metadata": {},
   "outputs": [],
   "source": [
    "df.loc[df['make'].str.contains('(?i)chevrolet|audi|bmw|mercedes-benz|saab'),'make'] = 'Executive'"
   ]
  },
  {
   "cell_type": "code",
   "execution_count": 16,
   "id": "5312aa2c",
   "metadata": {},
   "outputs": [
    {
     "data": {
      "text/plain": [
       "ohc     123\n",
       "ohcf     12\n",
       "l         8\n",
       "dohc      8\n",
       "ohcv      8\n",
       "Name: engine_type, dtype: int64"
      ]
     },
     "execution_count": 16,
     "metadata": {},
     "output_type": "execute_result"
    }
   ],
   "source": [
    "df.engine_type.value_counts()"
   ]
  },
  {
   "cell_type": "code",
   "execution_count": 17,
   "id": "ceea51db",
   "metadata": {},
   "outputs": [],
   "source": [
    "df.loc[df['engine_type'].str.contains('(?i)l|dohc|ohcv'),'engine_type'] = 'Pushrod'"
   ]
  },
  {
   "cell_type": "code",
   "execution_count": 18,
   "id": "b84f82c5",
   "metadata": {
    "scrolled": true
   },
   "outputs": [
    {
     "data": {
      "text/html": [
       "<div>\n",
       "<style scoped>\n",
       "    .dataframe tbody tr th:only-of-type {\n",
       "        vertical-align: middle;\n",
       "    }\n",
       "\n",
       "    .dataframe tbody tr th {\n",
       "        vertical-align: top;\n",
       "    }\n",
       "\n",
       "    .dataframe thead th {\n",
       "        text-align: right;\n",
       "    }\n",
       "</style>\n",
       "<table border=\"1\" class=\"dataframe\">\n",
       "  <thead>\n",
       "    <tr style=\"text-align: right;\">\n",
       "      <th></th>\n",
       "      <th>symboling</th>\n",
       "      <th>normalized_losses</th>\n",
       "      <th>make</th>\n",
       "      <th>fuel_type</th>\n",
       "      <th>num_doors</th>\n",
       "      <th>body_style</th>\n",
       "      <th>wheel_drive</th>\n",
       "      <th>Engine_location</th>\n",
       "      <th>wheel_base</th>\n",
       "      <th>length</th>\n",
       "      <th>width</th>\n",
       "      <th>height</th>\n",
       "      <th>curb_weight</th>\n",
       "      <th>engine_type</th>\n",
       "      <th>engine-size</th>\n",
       "      <th>fuel_system</th>\n",
       "      <th>stroke</th>\n",
       "      <th>compression_ratio</th>\n",
       "      <th>horsepower</th>\n",
       "      <th>price</th>\n",
       "    </tr>\n",
       "  </thead>\n",
       "  <tbody>\n",
       "    <tr>\n",
       "      <th>3</th>\n",
       "      <td>2</td>\n",
       "      <td>164</td>\n",
       "      <td>Executive</td>\n",
       "      <td>gas</td>\n",
       "      <td>four</td>\n",
       "      <td>sedan</td>\n",
       "      <td>fwd</td>\n",
       "      <td>front</td>\n",
       "      <td>99.8</td>\n",
       "      <td>176.6</td>\n",
       "      <td>66.2</td>\n",
       "      <td>54.3</td>\n",
       "      <td>2337</td>\n",
       "      <td>ohc</td>\n",
       "      <td>109</td>\n",
       "      <td>mpfi</td>\n",
       "      <td>3.40</td>\n",
       "      <td>10.00</td>\n",
       "      <td>102</td>\n",
       "      <td>13950</td>\n",
       "    </tr>\n",
       "    <tr>\n",
       "      <th>4</th>\n",
       "      <td>2</td>\n",
       "      <td>164</td>\n",
       "      <td>Executive</td>\n",
       "      <td>gas</td>\n",
       "      <td>four</td>\n",
       "      <td>sedan</td>\n",
       "      <td>fwd</td>\n",
       "      <td>front</td>\n",
       "      <td>99.4</td>\n",
       "      <td>176.6</td>\n",
       "      <td>66.4</td>\n",
       "      <td>54.3</td>\n",
       "      <td>2824</td>\n",
       "      <td>ohc</td>\n",
       "      <td>136</td>\n",
       "      <td>mpfi</td>\n",
       "      <td>3.40</td>\n",
       "      <td>8.00</td>\n",
       "      <td>115</td>\n",
       "      <td>17450</td>\n",
       "    </tr>\n",
       "    <tr>\n",
       "      <th>6</th>\n",
       "      <td>1</td>\n",
       "      <td>158</td>\n",
       "      <td>Executive</td>\n",
       "      <td>gas</td>\n",
       "      <td>four</td>\n",
       "      <td>sedan</td>\n",
       "      <td>fwd</td>\n",
       "      <td>front</td>\n",
       "      <td>105.8</td>\n",
       "      <td>192.7</td>\n",
       "      <td>71.4</td>\n",
       "      <td>55.7</td>\n",
       "      <td>2844</td>\n",
       "      <td>ohc</td>\n",
       "      <td>136</td>\n",
       "      <td>mpfi</td>\n",
       "      <td>3.40</td>\n",
       "      <td>8.50</td>\n",
       "      <td>110</td>\n",
       "      <td>17710</td>\n",
       "    </tr>\n",
       "    <tr>\n",
       "      <th>8</th>\n",
       "      <td>1</td>\n",
       "      <td>158</td>\n",
       "      <td>Executive</td>\n",
       "      <td>gas</td>\n",
       "      <td>four</td>\n",
       "      <td>sedan</td>\n",
       "      <td>fwd</td>\n",
       "      <td>front</td>\n",
       "      <td>105.8</td>\n",
       "      <td>192.7</td>\n",
       "      <td>71.4</td>\n",
       "      <td>55.9</td>\n",
       "      <td>3086</td>\n",
       "      <td>ohc</td>\n",
       "      <td>131</td>\n",
       "      <td>mpfi</td>\n",
       "      <td>3.40</td>\n",
       "      <td>8.30</td>\n",
       "      <td>140</td>\n",
       "      <td>23875</td>\n",
       "    </tr>\n",
       "    <tr>\n",
       "      <th>10</th>\n",
       "      <td>2</td>\n",
       "      <td>192</td>\n",
       "      <td>Executive</td>\n",
       "      <td>gas</td>\n",
       "      <td>two</td>\n",
       "      <td>sedan</td>\n",
       "      <td>rwd</td>\n",
       "      <td>front</td>\n",
       "      <td>101.2</td>\n",
       "      <td>176.8</td>\n",
       "      <td>64.8</td>\n",
       "      <td>54.3</td>\n",
       "      <td>2395</td>\n",
       "      <td>ohc</td>\n",
       "      <td>108</td>\n",
       "      <td>mpfi</td>\n",
       "      <td>2.80</td>\n",
       "      <td>8.80</td>\n",
       "      <td>101</td>\n",
       "      <td>16430</td>\n",
       "    </tr>\n",
       "    <tr>\n",
       "      <th>11</th>\n",
       "      <td>0</td>\n",
       "      <td>192</td>\n",
       "      <td>Executive</td>\n",
       "      <td>gas</td>\n",
       "      <td>four</td>\n",
       "      <td>sedan</td>\n",
       "      <td>rwd</td>\n",
       "      <td>front</td>\n",
       "      <td>101.2</td>\n",
       "      <td>176.8</td>\n",
       "      <td>64.8</td>\n",
       "      <td>54.3</td>\n",
       "      <td>2395</td>\n",
       "      <td>ohc</td>\n",
       "      <td>108</td>\n",
       "      <td>mpfi</td>\n",
       "      <td>2.80</td>\n",
       "      <td>8.80</td>\n",
       "      <td>101</td>\n",
       "      <td>16925</td>\n",
       "    </tr>\n",
       "    <tr>\n",
       "      <th>12</th>\n",
       "      <td>0</td>\n",
       "      <td>188</td>\n",
       "      <td>Executive</td>\n",
       "      <td>gas</td>\n",
       "      <td>two</td>\n",
       "      <td>sedan</td>\n",
       "      <td>rwd</td>\n",
       "      <td>front</td>\n",
       "      <td>101.2</td>\n",
       "      <td>176.8</td>\n",
       "      <td>64.8</td>\n",
       "      <td>54.3</td>\n",
       "      <td>2710</td>\n",
       "      <td>ohc</td>\n",
       "      <td>164</td>\n",
       "      <td>mpfi</td>\n",
       "      <td>3.19</td>\n",
       "      <td>9.00</td>\n",
       "      <td>121</td>\n",
       "      <td>20970</td>\n",
       "    </tr>\n",
       "    <tr>\n",
       "      <th>13</th>\n",
       "      <td>0</td>\n",
       "      <td>188</td>\n",
       "      <td>Executive</td>\n",
       "      <td>gas</td>\n",
       "      <td>four</td>\n",
       "      <td>sedan</td>\n",
       "      <td>rwd</td>\n",
       "      <td>front</td>\n",
       "      <td>101.2</td>\n",
       "      <td>176.8</td>\n",
       "      <td>64.8</td>\n",
       "      <td>54.3</td>\n",
       "      <td>2765</td>\n",
       "      <td>ohc</td>\n",
       "      <td>164</td>\n",
       "      <td>mpfi</td>\n",
       "      <td>3.19</td>\n",
       "      <td>9.00</td>\n",
       "      <td>121</td>\n",
       "      <td>21105</td>\n",
       "    </tr>\n",
       "    <tr>\n",
       "      <th>18</th>\n",
       "      <td>2</td>\n",
       "      <td>121</td>\n",
       "      <td>Executive</td>\n",
       "      <td>gas</td>\n",
       "      <td>two</td>\n",
       "      <td>hatchback</td>\n",
       "      <td>fwd</td>\n",
       "      <td>front</td>\n",
       "      <td>88.4</td>\n",
       "      <td>141.1</td>\n",
       "      <td>60.3</td>\n",
       "      <td>53.2</td>\n",
       "      <td>1488</td>\n",
       "      <td>Pushrod</td>\n",
       "      <td>61</td>\n",
       "      <td>2bbl</td>\n",
       "      <td>3.03</td>\n",
       "      <td>9.50</td>\n",
       "      <td>48</td>\n",
       "      <td>5151</td>\n",
       "    </tr>\n",
       "    <tr>\n",
       "      <th>19</th>\n",
       "      <td>1</td>\n",
       "      <td>98</td>\n",
       "      <td>Executive</td>\n",
       "      <td>gas</td>\n",
       "      <td>two</td>\n",
       "      <td>hatchback</td>\n",
       "      <td>fwd</td>\n",
       "      <td>front</td>\n",
       "      <td>94.5</td>\n",
       "      <td>155.9</td>\n",
       "      <td>63.6</td>\n",
       "      <td>52.0</td>\n",
       "      <td>1874</td>\n",
       "      <td>ohc</td>\n",
       "      <td>90</td>\n",
       "      <td>2bbl</td>\n",
       "      <td>3.11</td>\n",
       "      <td>9.60</td>\n",
       "      <td>70</td>\n",
       "      <td>6295</td>\n",
       "    </tr>\n",
       "    <tr>\n",
       "      <th>20</th>\n",
       "      <td>0</td>\n",
       "      <td>81</td>\n",
       "      <td>Executive</td>\n",
       "      <td>gas</td>\n",
       "      <td>four</td>\n",
       "      <td>sedan</td>\n",
       "      <td>fwd</td>\n",
       "      <td>front</td>\n",
       "      <td>94.5</td>\n",
       "      <td>158.8</td>\n",
       "      <td>63.6</td>\n",
       "      <td>52.0</td>\n",
       "      <td>1909</td>\n",
       "      <td>ohc</td>\n",
       "      <td>90</td>\n",
       "      <td>2bbl</td>\n",
       "      <td>3.11</td>\n",
       "      <td>9.60</td>\n",
       "      <td>70</td>\n",
       "      <td>6575</td>\n",
       "    </tr>\n",
       "    <tr>\n",
       "      <th>21</th>\n",
       "      <td>1</td>\n",
       "      <td>118</td>\n",
       "      <td>dodge</td>\n",
       "      <td>gas</td>\n",
       "      <td>two</td>\n",
       "      <td>hatchback</td>\n",
       "      <td>fwd</td>\n",
       "      <td>front</td>\n",
       "      <td>93.7</td>\n",
       "      <td>157.3</td>\n",
       "      <td>63.8</td>\n",
       "      <td>50.8</td>\n",
       "      <td>1876</td>\n",
       "      <td>ohc</td>\n",
       "      <td>90</td>\n",
       "      <td>2bbl</td>\n",
       "      <td>3.23</td>\n",
       "      <td>9.41</td>\n",
       "      <td>68</td>\n",
       "      <td>5572</td>\n",
       "    </tr>\n",
       "    <tr>\n",
       "      <th>22</th>\n",
       "      <td>1</td>\n",
       "      <td>118</td>\n",
       "      <td>dodge</td>\n",
       "      <td>gas</td>\n",
       "      <td>two</td>\n",
       "      <td>hatchback</td>\n",
       "      <td>fwd</td>\n",
       "      <td>front</td>\n",
       "      <td>93.7</td>\n",
       "      <td>157.3</td>\n",
       "      <td>63.8</td>\n",
       "      <td>50.8</td>\n",
       "      <td>1876</td>\n",
       "      <td>ohc</td>\n",
       "      <td>90</td>\n",
       "      <td>2bbl</td>\n",
       "      <td>3.23</td>\n",
       "      <td>9.40</td>\n",
       "      <td>68</td>\n",
       "      <td>6377</td>\n",
       "    </tr>\n",
       "    <tr>\n",
       "      <th>23</th>\n",
       "      <td>1</td>\n",
       "      <td>118</td>\n",
       "      <td>dodge</td>\n",
       "      <td>gas</td>\n",
       "      <td>two</td>\n",
       "      <td>hatchback</td>\n",
       "      <td>fwd</td>\n",
       "      <td>front</td>\n",
       "      <td>93.7</td>\n",
       "      <td>157.3</td>\n",
       "      <td>63.8</td>\n",
       "      <td>50.8</td>\n",
       "      <td>2128</td>\n",
       "      <td>ohc</td>\n",
       "      <td>98</td>\n",
       "      <td>mpfi</td>\n",
       "      <td>3.39</td>\n",
       "      <td>7.60</td>\n",
       "      <td>102</td>\n",
       "      <td>7957</td>\n",
       "    </tr>\n",
       "    <tr>\n",
       "      <th>24</th>\n",
       "      <td>1</td>\n",
       "      <td>148</td>\n",
       "      <td>dodge</td>\n",
       "      <td>gas</td>\n",
       "      <td>four</td>\n",
       "      <td>hatchback</td>\n",
       "      <td>fwd</td>\n",
       "      <td>front</td>\n",
       "      <td>93.7</td>\n",
       "      <td>157.3</td>\n",
       "      <td>63.8</td>\n",
       "      <td>50.6</td>\n",
       "      <td>1967</td>\n",
       "      <td>ohc</td>\n",
       "      <td>90</td>\n",
       "      <td>2bbl</td>\n",
       "      <td>3.23</td>\n",
       "      <td>9.40</td>\n",
       "      <td>68</td>\n",
       "      <td>6229</td>\n",
       "    </tr>\n",
       "  </tbody>\n",
       "</table>\n",
       "</div>"
      ],
      "text/plain": [
       "    symboling normalized_losses       make fuel_type num_doors body_style  \\\n",
       "3           2               164  Executive       gas      four      sedan   \n",
       "4           2               164  Executive       gas      four      sedan   \n",
       "6           1               158  Executive       gas      four      sedan   \n",
       "8           1               158  Executive       gas      four      sedan   \n",
       "10          2               192  Executive       gas       two      sedan   \n",
       "11          0               192  Executive       gas      four      sedan   \n",
       "12          0               188  Executive       gas       two      sedan   \n",
       "13          0               188  Executive       gas      four      sedan   \n",
       "18          2               121  Executive       gas       two  hatchback   \n",
       "19          1                98  Executive       gas       two  hatchback   \n",
       "20          0                81  Executive       gas      four      sedan   \n",
       "21          1               118      dodge       gas       two  hatchback   \n",
       "22          1               118      dodge       gas       two  hatchback   \n",
       "23          1               118      dodge       gas       two  hatchback   \n",
       "24          1               148      dodge       gas      four  hatchback   \n",
       "\n",
       "   wheel_drive Engine_location  wheel_base  length  width  height  \\\n",
       "3          fwd           front        99.8   176.6   66.2    54.3   \n",
       "4          fwd           front        99.4   176.6   66.4    54.3   \n",
       "6          fwd           front       105.8   192.7   71.4    55.7   \n",
       "8          fwd           front       105.8   192.7   71.4    55.9   \n",
       "10         rwd           front       101.2   176.8   64.8    54.3   \n",
       "11         rwd           front       101.2   176.8   64.8    54.3   \n",
       "12         rwd           front       101.2   176.8   64.8    54.3   \n",
       "13         rwd           front       101.2   176.8   64.8    54.3   \n",
       "18         fwd           front        88.4   141.1   60.3    53.2   \n",
       "19         fwd           front        94.5   155.9   63.6    52.0   \n",
       "20         fwd           front        94.5   158.8   63.6    52.0   \n",
       "21         fwd           front        93.7   157.3   63.8    50.8   \n",
       "22         fwd           front        93.7   157.3   63.8    50.8   \n",
       "23         fwd           front        93.7   157.3   63.8    50.8   \n",
       "24         fwd           front        93.7   157.3   63.8    50.6   \n",
       "\n",
       "    curb_weight engine_type  engine-size fuel_system stroke  \\\n",
       "3          2337         ohc          109        mpfi   3.40   \n",
       "4          2824         ohc          136        mpfi   3.40   \n",
       "6          2844         ohc          136        mpfi   3.40   \n",
       "8          3086         ohc          131        mpfi   3.40   \n",
       "10         2395         ohc          108        mpfi   2.80   \n",
       "11         2395         ohc          108        mpfi   2.80   \n",
       "12         2710         ohc          164        mpfi   3.19   \n",
       "13         2765         ohc          164        mpfi   3.19   \n",
       "18         1488     Pushrod           61        2bbl   3.03   \n",
       "19         1874         ohc           90        2bbl   3.11   \n",
       "20         1909         ohc           90        2bbl   3.11   \n",
       "21         1876         ohc           90        2bbl   3.23   \n",
       "22         1876         ohc           90        2bbl   3.23   \n",
       "23         2128         ohc           98        mpfi   3.39   \n",
       "24         1967         ohc           90        2bbl   3.23   \n",
       "\n",
       "    compression_ratio horsepower  price  \n",
       "3               10.00        102  13950  \n",
       "4                8.00        115  17450  \n",
       "6                8.50        110  17710  \n",
       "8                8.30        140  23875  \n",
       "10               8.80        101  16430  \n",
       "11               8.80        101  16925  \n",
       "12               9.00        121  20970  \n",
       "13               9.00        121  21105  \n",
       "18               9.50         48   5151  \n",
       "19               9.60         70   6295  \n",
       "20               9.60         70   6575  \n",
       "21               9.41         68   5572  \n",
       "22               9.40         68   6377  \n",
       "23               7.60        102   7957  \n",
       "24               9.40         68   6229  "
      ]
     },
     "execution_count": 18,
     "metadata": {},
     "output_type": "execute_result"
    }
   ],
   "source": [
    "df.head(15)"
   ]
  },
  {
   "cell_type": "code",
   "execution_count": 19,
   "id": "82ec8147",
   "metadata": {},
   "outputs": [
    {
     "data": {
      "text/plain": [
       "symboling              int64\n",
       "normalized_losses     object\n",
       "make                  object\n",
       "fuel_type             object\n",
       "num_doors             object\n",
       "body_style            object\n",
       "wheel_drive           object\n",
       "Engine_location       object\n",
       "wheel_base           float64\n",
       "length               float64\n",
       "width                float64\n",
       "height               float64\n",
       "curb_weight            int64\n",
       "engine_type           object\n",
       "engine-size            int64\n",
       "fuel_system           object\n",
       "stroke                object\n",
       "compression_ratio    float64\n",
       "horsepower             int32\n",
       "price                 object\n",
       "dtype: object"
      ]
     },
     "execution_count": 19,
     "metadata": {},
     "output_type": "execute_result"
    }
   ],
   "source": [
    "df.astype({'horsepower': 'int32'}).dtypes"
   ]
  },
  {
   "cell_type": "code",
   "execution_count": 20,
   "id": "25a95a48",
   "metadata": {},
   "outputs": [],
   "source": [
    "df['price'] = df['price'].astype(float)\n",
    "df['stroke'] = df['stroke'].astype(float)\n",
    "df['normalized_losses'] = df['normalized_losses'].astype(float)\n",
    "df['stroke'] = df['stroke'].astype(float)\n"
   ]
  },
  {
   "cell_type": "markdown",
   "id": "84a1a088",
   "metadata": {},
   "source": [
    "### Saving cleaned dataset"
   ]
  },
  {
   "cell_type": "code",
   "execution_count": 21,
   "id": "29ae9116",
   "metadata": {},
   "outputs": [],
   "source": [
    "df.to_csv('Dataset/Car_insurance_cleaned.csv',index=False) # Saves the cleaned dataset"
   ]
  },
  {
   "cell_type": "markdown",
   "id": "29030243",
   "metadata": {},
   "source": [
    "### EDA"
   ]
  },
  {
   "cell_type": "markdown",
   "id": "2beea140",
   "metadata": {},
   "source": [
    "#### Feature Observation"
   ]
  },
  {
   "cell_type": "code",
   "execution_count": 22,
   "id": "fb273941",
   "metadata": {},
   "outputs": [
    {
     "data": {
      "text/html": [
       "<div>\n",
       "<style scoped>\n",
       "    .dataframe tbody tr th:only-of-type {\n",
       "        vertical-align: middle;\n",
       "    }\n",
       "\n",
       "    .dataframe tbody tr th {\n",
       "        vertical-align: top;\n",
       "    }\n",
       "\n",
       "    .dataframe thead th {\n",
       "        text-align: right;\n",
       "    }\n",
       "</style>\n",
       "<table border=\"1\" class=\"dataframe\">\n",
       "  <thead>\n",
       "    <tr style=\"text-align: right;\">\n",
       "      <th></th>\n",
       "      <th>symboling</th>\n",
       "      <th>normalized_losses</th>\n",
       "      <th>wheel_base</th>\n",
       "      <th>length</th>\n",
       "      <th>width</th>\n",
       "      <th>height</th>\n",
       "      <th>curb_weight</th>\n",
       "      <th>engine-size</th>\n",
       "      <th>stroke</th>\n",
       "      <th>compression_ratio</th>\n",
       "      <th>price</th>\n",
       "    </tr>\n",
       "  </thead>\n",
       "  <tbody>\n",
       "    <tr>\n",
       "      <th>price</th>\n",
       "      <td>-0.162794</td>\n",
       "      <td>0.202761</td>\n",
       "      <td>0.734419</td>\n",
       "      <td>0.760952</td>\n",
       "      <td>0.843371</td>\n",
       "      <td>0.244836</td>\n",
       "      <td>0.893639</td>\n",
       "      <td>0.841496</td>\n",
       "      <td>0.160664</td>\n",
       "      <td>0.209361</td>\n",
       "      <td>1.000000</td>\n",
       "    </tr>\n",
       "    <tr>\n",
       "      <th>curb_weight</th>\n",
       "      <td>-0.251880</td>\n",
       "      <td>0.125858</td>\n",
       "      <td>0.810181</td>\n",
       "      <td>0.871291</td>\n",
       "      <td>0.870595</td>\n",
       "      <td>0.367052</td>\n",
       "      <td>1.000000</td>\n",
       "      <td>0.888626</td>\n",
       "      <td>0.173844</td>\n",
       "      <td>0.224724</td>\n",
       "      <td>0.893639</td>\n",
       "    </tr>\n",
       "    <tr>\n",
       "      <th>width</th>\n",
       "      <td>-0.219186</td>\n",
       "      <td>0.109726</td>\n",
       "      <td>0.814991</td>\n",
       "      <td>0.838338</td>\n",
       "      <td>1.000000</td>\n",
       "      <td>0.292706</td>\n",
       "      <td>0.870595</td>\n",
       "      <td>0.779253</td>\n",
       "      <td>0.196619</td>\n",
       "      <td>0.258752</td>\n",
       "      <td>0.843371</td>\n",
       "    </tr>\n",
       "    <tr>\n",
       "      <th>engine-size</th>\n",
       "      <td>-0.109453</td>\n",
       "      <td>0.207820</td>\n",
       "      <td>0.649206</td>\n",
       "      <td>0.725953</td>\n",
       "      <td>0.779253</td>\n",
       "      <td>0.111083</td>\n",
       "      <td>0.888626</td>\n",
       "      <td>1.000000</td>\n",
       "      <td>0.299683</td>\n",
       "      <td>0.141097</td>\n",
       "      <td>0.841496</td>\n",
       "    </tr>\n",
       "    <tr>\n",
       "      <th>length</th>\n",
       "      <td>-0.336257</td>\n",
       "      <td>0.035541</td>\n",
       "      <td>0.871534</td>\n",
       "      <td>1.000000</td>\n",
       "      <td>0.838338</td>\n",
       "      <td>0.499251</td>\n",
       "      <td>0.871291</td>\n",
       "      <td>0.725953</td>\n",
       "      <td>0.121073</td>\n",
       "      <td>0.184814</td>\n",
       "      <td>0.760952</td>\n",
       "    </tr>\n",
       "    <tr>\n",
       "      <th>wheel_base</th>\n",
       "      <td>-0.520591</td>\n",
       "      <td>-0.060086</td>\n",
       "      <td>1.000000</td>\n",
       "      <td>0.871534</td>\n",
       "      <td>0.814991</td>\n",
       "      <td>0.555767</td>\n",
       "      <td>0.810181</td>\n",
       "      <td>0.649206</td>\n",
       "      <td>0.167449</td>\n",
       "      <td>0.291431</td>\n",
       "      <td>0.734419</td>\n",
       "    </tr>\n",
       "    <tr>\n",
       "      <th>height</th>\n",
       "      <td>-0.475185</td>\n",
       "      <td>-0.413702</td>\n",
       "      <td>0.555767</td>\n",
       "      <td>0.499251</td>\n",
       "      <td>0.292706</td>\n",
       "      <td>1.000000</td>\n",
       "      <td>0.367052</td>\n",
       "      <td>0.111083</td>\n",
       "      <td>-0.091313</td>\n",
       "      <td>0.233308</td>\n",
       "      <td>0.244836</td>\n",
       "    </tr>\n",
       "    <tr>\n",
       "      <th>compression_ratio</th>\n",
       "      <td>-0.138316</td>\n",
       "      <td>-0.127259</td>\n",
       "      <td>0.291431</td>\n",
       "      <td>0.184814</td>\n",
       "      <td>0.258752</td>\n",
       "      <td>0.233308</td>\n",
       "      <td>0.224724</td>\n",
       "      <td>0.141097</td>\n",
       "      <td>0.243587</td>\n",
       "      <td>1.000000</td>\n",
       "      <td>0.209361</td>\n",
       "    </tr>\n",
       "    <tr>\n",
       "      <th>normalized_losses</th>\n",
       "      <td>0.518344</td>\n",
       "      <td>1.000000</td>\n",
       "      <td>-0.060086</td>\n",
       "      <td>0.035541</td>\n",
       "      <td>0.109726</td>\n",
       "      <td>-0.413702</td>\n",
       "      <td>0.125858</td>\n",
       "      <td>0.207820</td>\n",
       "      <td>0.063330</td>\n",
       "      <td>-0.127259</td>\n",
       "      <td>0.202761</td>\n",
       "    </tr>\n",
       "    <tr>\n",
       "      <th>stroke</th>\n",
       "      <td>-0.021285</td>\n",
       "      <td>0.063330</td>\n",
       "      <td>0.167449</td>\n",
       "      <td>0.121073</td>\n",
       "      <td>0.196619</td>\n",
       "      <td>-0.091313</td>\n",
       "      <td>0.173844</td>\n",
       "      <td>0.299683</td>\n",
       "      <td>1.000000</td>\n",
       "      <td>0.243587</td>\n",
       "      <td>0.160664</td>\n",
       "    </tr>\n",
       "    <tr>\n",
       "      <th>symboling</th>\n",
       "      <td>1.000000</td>\n",
       "      <td>0.518344</td>\n",
       "      <td>-0.520591</td>\n",
       "      <td>-0.336257</td>\n",
       "      <td>-0.219186</td>\n",
       "      <td>-0.475185</td>\n",
       "      <td>-0.251880</td>\n",
       "      <td>-0.109453</td>\n",
       "      <td>-0.021285</td>\n",
       "      <td>-0.138316</td>\n",
       "      <td>-0.162794</td>\n",
       "    </tr>\n",
       "  </tbody>\n",
       "</table>\n",
       "</div>"
      ],
      "text/plain": [
       "                   symboling  normalized_losses  wheel_base    length  \\\n",
       "price              -0.162794           0.202761    0.734419  0.760952   \n",
       "curb_weight        -0.251880           0.125858    0.810181  0.871291   \n",
       "width              -0.219186           0.109726    0.814991  0.838338   \n",
       "engine-size        -0.109453           0.207820    0.649206  0.725953   \n",
       "length             -0.336257           0.035541    0.871534  1.000000   \n",
       "wheel_base         -0.520591          -0.060086    1.000000  0.871534   \n",
       "height             -0.475185          -0.413702    0.555767  0.499251   \n",
       "compression_ratio  -0.138316          -0.127259    0.291431  0.184814   \n",
       "normalized_losses   0.518344           1.000000   -0.060086  0.035541   \n",
       "stroke             -0.021285           0.063330    0.167449  0.121073   \n",
       "symboling           1.000000           0.518344   -0.520591 -0.336257   \n",
       "\n",
       "                      width    height  curb_weight  engine-size    stroke  \\\n",
       "price              0.843371  0.244836     0.893639     0.841496  0.160664   \n",
       "curb_weight        0.870595  0.367052     1.000000     0.888626  0.173844   \n",
       "width              1.000000  0.292706     0.870595     0.779253  0.196619   \n",
       "engine-size        0.779253  0.111083     0.888626     1.000000  0.299683   \n",
       "length             0.838338  0.499251     0.871291     0.725953  0.121073   \n",
       "wheel_base         0.814991  0.555767     0.810181     0.649206  0.167449   \n",
       "height             0.292706  1.000000     0.367052     0.111083 -0.091313   \n",
       "compression_ratio  0.258752  0.233308     0.224724     0.141097  0.243587   \n",
       "normalized_losses  0.109726 -0.413702     0.125858     0.207820  0.063330   \n",
       "stroke             0.196619 -0.091313     0.173844     0.299683  1.000000   \n",
       "symboling         -0.219186 -0.475185    -0.251880    -0.109453 -0.021285   \n",
       "\n",
       "                   compression_ratio     price  \n",
       "price                       0.209361  1.000000  \n",
       "curb_weight                 0.224724  0.893639  \n",
       "width                       0.258752  0.843371  \n",
       "engine-size                 0.141097  0.841496  \n",
       "length                      0.184814  0.760952  \n",
       "wheel_base                  0.291431  0.734419  \n",
       "height                      0.233308  0.244836  \n",
       "compression_ratio           1.000000  0.209361  \n",
       "normalized_losses          -0.127259  0.202761  \n",
       "stroke                      0.243587  0.160664  \n",
       "symboling                  -0.138316 -0.162794  "
      ]
     },
     "execution_count": 22,
     "metadata": {},
     "output_type": "execute_result"
    }
   ],
   "source": [
    "df.corr().sort_values('price', ascending=False)"
   ]
  },
  {
   "cell_type": "code",
   "execution_count": 23,
   "id": "9c851c22",
   "metadata": {},
   "outputs": [
    {
     "data": {
      "text/html": [
       "<div>\n",
       "<style scoped>\n",
       "    .dataframe tbody tr th:only-of-type {\n",
       "        vertical-align: middle;\n",
       "    }\n",
       "\n",
       "    .dataframe tbody tr th {\n",
       "        vertical-align: top;\n",
       "    }\n",
       "\n",
       "    .dataframe thead th {\n",
       "        text-align: right;\n",
       "    }\n",
       "</style>\n",
       "<table border=\"1\" class=\"dataframe\">\n",
       "  <thead>\n",
       "    <tr style=\"text-align: right;\">\n",
       "      <th></th>\n",
       "      <th>symboling</th>\n",
       "      <th>normalized_losses</th>\n",
       "      <th>wheel_base</th>\n",
       "      <th>length</th>\n",
       "      <th>width</th>\n",
       "      <th>height</th>\n",
       "      <th>curb_weight</th>\n",
       "      <th>engine-size</th>\n",
       "      <th>stroke</th>\n",
       "      <th>compression_ratio</th>\n",
       "      <th>price</th>\n",
       "    </tr>\n",
       "  </thead>\n",
       "  <tbody>\n",
       "    <tr>\n",
       "      <th>count</th>\n",
       "      <td>159.000000</td>\n",
       "      <td>159.000000</td>\n",
       "      <td>159.000000</td>\n",
       "      <td>159.000000</td>\n",
       "      <td>159.000000</td>\n",
       "      <td>159.000000</td>\n",
       "      <td>159.000000</td>\n",
       "      <td>159.000000</td>\n",
       "      <td>159.000000</td>\n",
       "      <td>159.000000</td>\n",
       "      <td>159.000000</td>\n",
       "    </tr>\n",
       "    <tr>\n",
       "      <th>mean</th>\n",
       "      <td>0.735849</td>\n",
       "      <td>121.132075</td>\n",
       "      <td>98.264151</td>\n",
       "      <td>172.413836</td>\n",
       "      <td>65.607547</td>\n",
       "      <td>53.899371</td>\n",
       "      <td>2461.138365</td>\n",
       "      <td>119.226415</td>\n",
       "      <td>3.236352</td>\n",
       "      <td>10.161132</td>\n",
       "      <td>11445.729560</td>\n",
       "    </tr>\n",
       "    <tr>\n",
       "      <th>std</th>\n",
       "      <td>1.193086</td>\n",
       "      <td>35.651285</td>\n",
       "      <td>5.167416</td>\n",
       "      <td>11.523177</td>\n",
       "      <td>1.947883</td>\n",
       "      <td>2.268761</td>\n",
       "      <td>481.941321</td>\n",
       "      <td>30.460791</td>\n",
       "      <td>0.294888</td>\n",
       "      <td>3.889475</td>\n",
       "      <td>5877.856195</td>\n",
       "    </tr>\n",
       "    <tr>\n",
       "      <th>min</th>\n",
       "      <td>-2.000000</td>\n",
       "      <td>65.000000</td>\n",
       "      <td>86.600000</td>\n",
       "      <td>141.100000</td>\n",
       "      <td>60.300000</td>\n",
       "      <td>49.400000</td>\n",
       "      <td>1488.000000</td>\n",
       "      <td>61.000000</td>\n",
       "      <td>2.070000</td>\n",
       "      <td>7.000000</td>\n",
       "      <td>5118.000000</td>\n",
       "    </tr>\n",
       "    <tr>\n",
       "      <th>25%</th>\n",
       "      <td>0.000000</td>\n",
       "      <td>94.000000</td>\n",
       "      <td>94.500000</td>\n",
       "      <td>165.650000</td>\n",
       "      <td>64.000000</td>\n",
       "      <td>52.250000</td>\n",
       "      <td>2065.500000</td>\n",
       "      <td>97.000000</td>\n",
       "      <td>3.105000</td>\n",
       "      <td>8.700000</td>\n",
       "      <td>7372.000000</td>\n",
       "    </tr>\n",
       "    <tr>\n",
       "      <th>50%</th>\n",
       "      <td>1.000000</td>\n",
       "      <td>113.000000</td>\n",
       "      <td>96.900000</td>\n",
       "      <td>172.400000</td>\n",
       "      <td>65.400000</td>\n",
       "      <td>54.100000</td>\n",
       "      <td>2340.000000</td>\n",
       "      <td>110.000000</td>\n",
       "      <td>3.270000</td>\n",
       "      <td>9.000000</td>\n",
       "      <td>9233.000000</td>\n",
       "    </tr>\n",
       "    <tr>\n",
       "      <th>75%</th>\n",
       "      <td>2.000000</td>\n",
       "      <td>148.000000</td>\n",
       "      <td>100.800000</td>\n",
       "      <td>177.800000</td>\n",
       "      <td>66.500000</td>\n",
       "      <td>55.500000</td>\n",
       "      <td>2809.500000</td>\n",
       "      <td>135.000000</td>\n",
       "      <td>3.410000</td>\n",
       "      <td>9.400000</td>\n",
       "      <td>14719.500000</td>\n",
       "    </tr>\n",
       "    <tr>\n",
       "      <th>max</th>\n",
       "      <td>3.000000</td>\n",
       "      <td>256.000000</td>\n",
       "      <td>115.600000</td>\n",
       "      <td>202.600000</td>\n",
       "      <td>71.700000</td>\n",
       "      <td>59.800000</td>\n",
       "      <td>4066.000000</td>\n",
       "      <td>258.000000</td>\n",
       "      <td>4.170000</td>\n",
       "      <td>23.000000</td>\n",
       "      <td>35056.000000</td>\n",
       "    </tr>\n",
       "  </tbody>\n",
       "</table>\n",
       "</div>"
      ],
      "text/plain": [
       "        symboling  normalized_losses  wheel_base      length       width  \\\n",
       "count  159.000000         159.000000  159.000000  159.000000  159.000000   \n",
       "mean     0.735849         121.132075   98.264151  172.413836   65.607547   \n",
       "std      1.193086          35.651285    5.167416   11.523177    1.947883   \n",
       "min     -2.000000          65.000000   86.600000  141.100000   60.300000   \n",
       "25%      0.000000          94.000000   94.500000  165.650000   64.000000   \n",
       "50%      1.000000         113.000000   96.900000  172.400000   65.400000   \n",
       "75%      2.000000         148.000000  100.800000  177.800000   66.500000   \n",
       "max      3.000000         256.000000  115.600000  202.600000   71.700000   \n",
       "\n",
       "           height  curb_weight  engine-size      stroke  compression_ratio  \\\n",
       "count  159.000000   159.000000   159.000000  159.000000         159.000000   \n",
       "mean    53.899371  2461.138365   119.226415    3.236352          10.161132   \n",
       "std      2.268761   481.941321    30.460791    0.294888           3.889475   \n",
       "min     49.400000  1488.000000    61.000000    2.070000           7.000000   \n",
       "25%     52.250000  2065.500000    97.000000    3.105000           8.700000   \n",
       "50%     54.100000  2340.000000   110.000000    3.270000           9.000000   \n",
       "75%     55.500000  2809.500000   135.000000    3.410000           9.400000   \n",
       "max     59.800000  4066.000000   258.000000    4.170000          23.000000   \n",
       "\n",
       "              price  \n",
       "count    159.000000  \n",
       "mean   11445.729560  \n",
       "std     5877.856195  \n",
       "min     5118.000000  \n",
       "25%     7372.000000  \n",
       "50%     9233.000000  \n",
       "75%    14719.500000  \n",
       "max    35056.000000  "
      ]
     },
     "execution_count": 23,
     "metadata": {},
     "output_type": "execute_result"
    }
   ],
   "source": [
    "df.describe()"
   ]
  },
  {
   "cell_type": "markdown",
   "id": "3240a318",
   "metadata": {},
   "source": [
    "By the above correlation table we can observe that:\n",
    "\n",
    "Price has the highest correlation with engine-size,width,length and curb_weight of the car.\n",
    "\n",
    "But we have not included the dummy features for the make,model etc\n",
    "    "
   ]
  },
  {
   "cell_type": "markdown",
   "id": "8acc0892",
   "metadata": {},
   "source": [
    "#### Univariate Analysis"
   ]
  },
  {
   "cell_type": "code",
   "execution_count": 24,
   "id": "5935167c",
   "metadata": {},
   "outputs": [
    {
     "name": "stderr",
     "output_type": "stream",
     "text": [
      "C:\\Users\\Abhinav\\anaconda3\\lib\\site-packages\\seaborn\\distributions.py:2619: FutureWarning: `distplot` is a deprecated function and will be removed in a future version. Please adapt your code to use either `displot` (a figure-level function with similar flexibility) or `histplot` (an axes-level function for histograms).\n",
      "  warnings.warn(msg, FutureWarning)\n"
     ]
    },
    {
     "data": {
      "text/plain": [
       "<AxesSubplot:xlabel='width', ylabel='Density'>"
      ]
     },
     "execution_count": 24,
     "metadata": {},
     "output_type": "execute_result"
    },
    {
     "data": {
      "image/png": "[encoded data removed]",
      "text/plain": [
       "<Figure size 432x288 with 1 Axes>"
      ]
     },
     "metadata": {
      "needs_background": "light"
     },
     "output_type": "display_data"
    }
   ],
   "source": [
    "sb.distplot(df.width, fit=norm)"
   ]
  },
  {
   "cell_type": "code",
   "execution_count": 25,
   "id": "b1b7f71e",
   "metadata": {},
   "outputs": [
    {
     "name": "stderr",
     "output_type": "stream",
     "text": [
      "C:\\Users\\Abhinav\\anaconda3\\lib\\site-packages\\seaborn\\distributions.py:2619: FutureWarning: `distplot` is a deprecated function and will be removed in a future version. Please adapt your code to use either `displot` (a figure-level function with similar flexibility) or `histplot` (an axes-level function for histograms).\n",
      "  warnings.warn(msg, FutureWarning)\n"
     ]
    },
    {
     "data": {
      "text/plain": [
       "<AxesSubplot:xlabel='curb_weight', ylabel='Density'>"
      ]
     },
     "execution_count": 25,
     "metadata": {},
     "output_type": "execute_result"
    },
    {
     "data": {
      "image/png": "[encoded data removed]",
      "text/plain": [
       "<Figure size 432x288 with 1 Axes>"
      ]
     },
     "metadata": {
      "needs_background": "light"
     },
     "output_type": "display_data"
    }
   ],
   "source": [
    "sb.distplot(df.curb_weight, fit=norm)"
   ]
  },
  {
   "cell_type": "markdown",
   "id": "d0c14b1a",
   "metadata": {},
   "source": [
    "#### Multivariate Analysis"
   ]
  },
  {
   "cell_type": "code",
   "execution_count": 26,
   "id": "d50b3fcd",
   "metadata": {},
   "outputs": [
    {
     "data": {
      "text/plain": [
       "Text(0.5, 1.0, 'width vs price')"
      ]
     },
     "execution_count": 26,
     "metadata": {},
     "output_type": "execute_result"
    },
    {
     "data": {
      "image/png": "[encoded data removed]",
      "text/plain": [
       "<Figure size 432x288 with 1 Axes>"
      ]
     },
     "metadata": {
      "needs_background": "light"
     },
     "output_type": "display_data"
    }
   ],
   "source": [
    "plt.scatter(df.width, df.price)\n",
    "plt.title(\"width vs price\")"
   ]
  },
  {
   "cell_type": "code",
   "execution_count": 27,
   "id": "951777fe",
   "metadata": {},
   "outputs": [
    {
     "data": {
      "text/plain": [
       "Text(0.5, 1.0, 'weight vs price')"
      ]
     },
     "execution_count": 27,
     "metadata": {},
     "output_type": "execute_result"
    },
    {
     "data": {
      "image/png": "[encoded data removed]",
      "text/plain": [
       "<Figure size 432x288 with 1 Axes>"
      ]
     },
     "metadata": {
      "needs_background": "light"
     },
     "output_type": "display_data"
    }
   ],
   "source": [
    "plt.scatter(df.curb_weight, df.price)\n",
    "plt.title(\"weight vs price\")"
   ]
  },
  {
   "cell_type": "markdown",
   "id": "a2c4e46c",
   "metadata": {},
   "source": [
    "Some Count plots"
   ]
  },
  {
   "cell_type": "code",
   "execution_count": 28,
   "id": "7df07924",
   "metadata": {},
   "outputs": [
    {
     "data": {
      "text/plain": [
       "<AxesSubplot:>"
      ]
     },
     "execution_count": 28,
     "metadata": {},
     "output_type": "execute_result"
    },
    {
     "data": {
      "image/png": "[encoded data removed]",
      "text/plain": [
       "<Figure size 432x288 with 1 Axes>"
      ]
     },
     "metadata": {
      "needs_background": "light"
     },
     "output_type": "display_data"
    }
   ],
   "source": [
    "df['make'].value_counts().plot(kind='bar')"
   ]
  },
  {
   "cell_type": "code",
   "execution_count": 29,
   "id": "a657f44d",
   "metadata": {},
   "outputs": [
    {
     "data": {
      "text/plain": [
       "<AxesSubplot:>"
      ]
     },
     "execution_count": 29,
     "metadata": {},
     "output_type": "execute_result"
    },
    {
     "data": {
      "image/png": "[encoded data removed]",
      "text/plain": [
       "<Figure size 432x288 with 1 Axes>"
      ]
     },
     "metadata": {
      "needs_background": "light"
     },
     "output_type": "display_data"
    }
   ],
   "source": [
    "df['fuel_system'].value_counts().plot(kind='bar')"
   ]
  },
  {
   "cell_type": "code",
   "execution_count": 30,
   "id": "815a7292",
   "metadata": {},
   "outputs": [
    {
     "data": {
      "text/plain": [
       "<AxesSubplot:>"
      ]
     },
     "execution_count": 30,
     "metadata": {},
     "output_type": "execute_result"
    },
    {
     "data": {
      "image/png": "[encoded data removed]",
      "text/plain": [
       "<Figure size 432x288 with 1 Axes>"
      ]
     },
     "metadata": {
      "needs_background": "light"
     },
     "output_type": "display_data"
    }
   ],
   "source": [
    "df['engine_type'].value_counts().plot(kind='bar')"
   ]
  },
  {
   "cell_type": "code",
   "execution_count": 31,
   "id": "f8c69fc2",
   "metadata": {},
   "outputs": [
    {
     "data": {
      "text/plain": [
       "Text(0.5, 1.0, 'price vs engine-size: Strong Positive')"
      ]
     },
     "execution_count": 31,
     "metadata": {},
     "output_type": "execute_result"
    },
    {
     "data": {
      "image/png": "[encoded data removed]",
      "text/plain": [
       "<Figure size 1440x576 with 1 Axes>"
      ]
     },
     "metadata": {
      "needs_background": "light"
     },
     "output_type": "display_data"
    }
   ],
   "source": [
    "fig = plt.figure(figsize=(20,8)) #create figure\n",
    "ax0 = fig.add_subplot(2, 2, 1)\n",
    "\n",
    "seab.set(font_scale=1.5)\n",
    "seab.regplot(x='engine-size', y='price', data=df, color='green', marker=' ', scatter_kws={'s': 50},ax=ax0)\n",
    "ax0.set_title('price vs engine-size: Strong Positive')"
   ]
  },
  {
   "cell_type": "code",
   "execution_count": 32,
   "id": "4dc4dfe7",
   "metadata": {},
   "outputs": [
    {
     "data": {
      "text/plain": [
       "Text(0.5, 1.0, 'price vs curb_weight : Positive')"
      ]
     },
     "execution_count": 32,
     "metadata": {},
     "output_type": "execute_result"
    },
    {
     "data": {
      "image/png": "[encoded data removed]",
      "text/plain": [
       "<Figure size 1440x576 with 1 Axes>"
      ]
     },
     "metadata": {},
     "output_type": "display_data"
    }
   ],
   "source": [
    "fig = plt.figure(figsize=(20,8)) #create figure\n",
    "ax0 = fig.add_subplot(2, 2, 1)\n",
    "\n",
    "seab.set(font_scale=1.5)\n",
    "seab.regplot(x='curb_weight', y='price', data=df, color='green', marker=' ', scatter_kws={'s': 50},ax=ax0)\n",
    "ax0.set_title('price vs curb_weight : Positive')"
   ]
  },
  {
   "cell_type": "markdown",
   "id": "e27853f9",
   "metadata": {},
   "source": [
    "## Feature Engineering"
   ]
  },
  {
   "cell_type": "code",
   "execution_count": 33,
   "id": "1793c1b9",
   "metadata": {},
   "outputs": [
    {
     "data": {
      "image/png": "[encoded data removed]",
      "text/plain": [
       "<Figure size 432x288 with 2 Axes>"
      ]
     },
     "metadata": {},
     "output_type": "display_data"
    }
   ],
   "source": [
    "corr = df.corr()\n",
    "ax = sb.heatmap(corr) #heatmap of correlation\n"
   ]
  },
  {
   "cell_type": "markdown",
   "id": "156c96c7",
   "metadata": {},
   "source": [
    "### Creating Dummy values for categorical columns"
   ]
  },
  {
   "cell_type": "code",
   "execution_count": 34,
   "id": "5380c76e",
   "metadata": {},
   "outputs": [],
   "source": [
    "make = pd.get_dummies(df.make, drop_first=True, prefix='make') # creates dummy columns\n",
    "df = df.join(make)\n",
    "df.drop(['make'], axis=1, inplace=True)"
   ]
  },
  {
   "cell_type": "code",
   "execution_count": 35,
   "id": "16220f4a",
   "metadata": {},
   "outputs": [],
   "source": [
    "fuel_type = pd.get_dummies(df.fuel_type, drop_first=True, prefix='') # creates dummy columns\n",
    "df = df.join(fuel_type)\n",
    "df.drop(['fuel_type'], axis=1, inplace=True)"
   ]
  },
  {
   "cell_type": "code",
   "execution_count": 36,
   "id": "b27d43f4",
   "metadata": {},
   "outputs": [],
   "source": [
    "num_doors = pd.get_dummies(df.num_doors, drop_first=True, prefix='door') # creates dummy columns\n",
    "df = df.join(num_doors)\n",
    "df.drop(['num_doors'], axis=1, inplace=True)"
   ]
  },
  {
   "cell_type": "code",
   "execution_count": 37,
   "id": "e085ffac",
   "metadata": {},
   "outputs": [],
   "source": [
    "body_style = pd.get_dummies(df.body_style, drop_first=True, prefix='body') \n",
    "df = df.join(body_style)\n",
    "df.drop(['body_style'], axis=1, inplace=True)"
   ]
  },
  {
   "cell_type": "code",
   "execution_count": 38,
   "id": "ce41de0c",
   "metadata": {},
   "outputs": [],
   "source": [
    "wheel_drive = pd.get_dummies(df.wheel_drive, drop_first=True, prefix='wd') # creates dummy columns\n",
    "df = df.join(wheel_drive)\n",
    "df.drop(['wheel_drive'], axis=1, inplace=True)"
   ]
  },
  {
   "cell_type": "code",
   "execution_count": 39,
   "id": "8bd79a2f",
   "metadata": {},
   "outputs": [],
   "source": [
    "Engine_location = pd.get_dummies(df.Engine_location, drop_first=True, prefix='eng_loc') # creates dummy columns\n",
    "df = df.join(Engine_location)\n",
    "df.drop(['Engine_location'], axis=1, inplace=True)"
   ]
  },
  {
   "cell_type": "code",
   "execution_count": 40,
   "id": "175b0e65",
   "metadata": {},
   "outputs": [],
   "source": [
    "engine_type = pd.get_dummies(df.engine_type, drop_first=True, prefix='eng_type') # creates dummy columns\n",
    "df = df.join(engine_type)\n",
    "df.drop(['engine_type'], axis=1, inplace=True)"
   ]
  },
  {
   "cell_type": "code",
   "execution_count": 41,
   "id": "45fe536e",
   "metadata": {},
   "outputs": [],
   "source": [
    "fuel_system = pd.get_dummies(df.fuel_system, drop_first=True, prefix='fuel_sys') # creates dummy columns\n",
    "df = df.join(fuel_system)\n",
    "df.drop(['fuel_system'], axis=1, inplace=True)"
   ]
  },
  {
   "cell_type": "code",
   "execution_count": 42,
   "id": "09cfc3a0",
   "metadata": {},
   "outputs": [],
   "source": [
    "target = df.price\n",
    "features = df.drop(\"price\" ,axis=1)"
   ]
  },
  {
   "cell_type": "markdown",
   "id": "4647c1eb",
   "metadata": {},
   "source": [
    "### Selecting features on various Methods"
   ]
  },
  {
   "cell_type": "markdown",
   "id": "1041f47f",
   "metadata": {},
   "source": [
    "1. Correlation Based"
   ]
  },
  {
   "cell_type": "code",
   "execution_count": 43,
   "id": "8031e5dc",
   "metadata": {},
   "outputs": [],
   "source": [
    "df_corr = df[[\"curb_weight\",\"engine-size\",\"width\",\"length\"]]"
   ]
  },
  {
   "cell_type": "markdown",
   "id": "16fa927f",
   "metadata": {},
   "source": [
    "2. Variance Threshold Selection"
   ]
  },
  {
   "cell_type": "code",
   "execution_count": 44,
   "id": "65813b1a",
   "metadata": {},
   "outputs": [],
   "source": [
    "vt = VarianceThreshold(threshold=0.2)\n",
    "vt.fit(features)\n",
    "pd.DataFrame({'variance': vt.variances_, 'select_feature': vt.get_support()}, index=features.columns)\n",
    "df_vt = features.iloc[:,vt.get_support()]"
   ]
  },
  {
   "cell_type": "markdown",
   "id": "08cfb367",
   "metadata": {},
   "source": [
    "3. Kbest selection"
   ]
  },
  {
   "cell_type": "code",
   "execution_count": 45,
   "id": "adbde4fb",
   "metadata": {},
   "outputs": [
    {
     "name": "stderr",
     "output_type": "stream",
     "text": [
      "C:\\Users\\Abhinav\\anaconda3\\lib\\site-packages\\sklearn\\feature_selection\\_univariate_selection.py:289: RuntimeWarning: invalid value encountered in true_divide\n",
      "  correlation_coefficient /= X_norms\n"
     ]
    }
   ],
   "source": [
    "kbest = SelectKBest(score_func=f_regression, k=6)\n",
    "X_train, X_test, y_train, y_test = train_test_split(features, target,test_size=0.3, random_state=42)\n",
    "kbest.fit_transform(X_train, y_train)\n",
    "df_selKBest = features.iloc[:,kbest.get_support()]"
   ]
  },
  {
   "cell_type": "markdown",
   "id": "98c26b1c",
   "metadata": {},
   "source": [
    "Initiating some lists"
   ]
  },
  {
   "cell_type": "code",
   "execution_count": 46,
   "id": "8540d36a",
   "metadata": {},
   "outputs": [],
   "source": [
    "fsel_list = []\n",
    "ftrans_list = []\n",
    "fscal_list = []\n",
    "r2_scores = []\n",
    "rmse_scores = []"
   ]
  },
  {
   "cell_type": "markdown",
   "id": "55cf0253",
   "metadata": {},
   "source": [
    "Creating Functions"
   ]
  },
  {
   "cell_type": "code",
   "execution_count": 47,
   "id": "0127de59",
   "metadata": {},
   "outputs": [],
   "source": [
    "def Lin_Reg(features, response):\n",
    "    X_train, X_test, Y_train, Y_test = train_test_split(features, response, test_size=0.25, \n",
    "                                                    random_state=42)\n",
    "    model = LinearRegression()\n",
    "    model.fit(X_train, Y_train)\n",
    "    \n",
    "    return X_train, X_test, Y_train, Y_test, model"
   ]
  },
  {
   "cell_type": "code",
   "execution_count": 48,
   "id": "a9a2230e",
   "metadata": {},
   "outputs": [],
   "source": [
    "def Scalefunc(scale,dataFrame):   #for scaling the features\n",
    "    scaled_features = scale.fit_transform(dataFrame)\n",
    "    scaled_df = pd.DataFrame(scaled_features, columns = dataFrame.columns)\n",
    "    return scaled_df"
   ]
  },
  {
   "cell_type": "code",
   "execution_count": 49,
   "id": "d18dcb4b",
   "metadata": {},
   "outputs": [],
   "source": [
    "def polynom(dataFrame): #for polynomial feature transformation\n",
    "    pf = PolynomialFeatures(degree=2,include_bias=False,interaction_only=True)\n",
    "    fit_pf = pf.fit(dataFrame)\n",
    "    poly = pd.DataFrame(pf.transform(dataFrame), columns = fit_pf.get_feature_names(dataFrame.columns))\n",
    "    return poly"
   ]
  },
  {
   "cell_type": "code",
   "execution_count": 50,
   "id": "8cbd1ac9",
   "metadata": {},
   "outputs": [],
   "source": [
    "def Logfunction(dataFrame):\n",
    "    df_log = pd.DataFrame()\n",
    "    for (columnName) in dataFrame.columns:\n",
    "        colName = columnName + '_log1p'\n",
    "        df_log[colName] = features[columnName].apply(lambda x: np.log1p(x))\n",
    "    return df_log"
   ]
  },
  {
   "cell_type": "markdown",
   "id": "ce4cedc9",
   "metadata": {},
   "source": [
    "i. Linear regression with correlation based selected features"
   ]
  },
  {
   "cell_type": "code",
   "execution_count": 51,
   "id": "57b845f4",
   "metadata": {},
   "outputs": [],
   "source": [
    "X_train, X_test, Y_train, Y_test, model = Lin_Reg(df_corr, target)\n",
    "Y_pred = model.predict(X_test)\n",
    "r2 = model.score(X_test, Y_test)\n",
    "rmse = (mean_squared_error(Y_test, Y_pred))**0.5\n",
    "\n",
    "fsel_list.append(\"Correlation Based\")\n",
    "ftrans_list.append(\"None\")\n",
    "fscal_list.append(\"None\")\n",
    "r2_scores.append(r2)\n",
    "rmse_scores.append(rmse)"
   ]
  },
  {
   "cell_type": "markdown",
   "id": "cb920e3c",
   "metadata": {},
   "source": [
    "ii. Linear Regression model with Correlation based selected features and Polynomial Features transformation"
   ]
  },
  {
   "cell_type": "code",
   "execution_count": 52,
   "id": "282720ee",
   "metadata": {},
   "outputs": [
    {
     "name": "stderr",
     "output_type": "stream",
     "text": [
      "C:\\Users\\Abhinav\\anaconda3\\lib\\site-packages\\sklearn\\utils\\deprecation.py:87: FutureWarning: Function get_feature_names is deprecated; get_feature_names is deprecated in 1.0 and will be removed in 1.2. Please use get_feature_names_out instead.\n",
      "  warnings.warn(msg, category=FutureWarning)\n"
     ]
    }
   ],
   "source": [
    "Poly_features = polynom(df_corr)\n",
    "X_train, X_test, Y_train, Y_test, model = Lin_Reg(Poly_features, target)\n",
    "Y_pred = model.predict(X_test)\n",
    "r2 = model.score(X_test, Y_test)\n",
    "rmse = (mean_squared_error(Y_test, Y_pred))**0.5\n",
    "\n",
    "fsel_list.append(\"Correlation Based\")\n",
    "ftrans_list.append(\"Poly 2\")\n",
    "fscal_list.append(\"None\")\n",
    "r2_scores.append(r2)\n",
    "rmse_scores.append(rmse)"
   ]
  },
  {
   "cell_type": "markdown",
   "id": "f929f0d1",
   "metadata": {},
   "source": [
    "iii. Linear Regression model with Correlation based selected features and a feature scaling method"
   ]
  },
  {
   "cell_type": "code",
   "execution_count": 53,
   "id": "ade03698",
   "metadata": {},
   "outputs": [],
   "source": [
    "scaler = MinMaxScaler() #using minmax scaling method\n",
    "df_minmax = Scalefunc(scaler,df_corr)\n",
    "X_train, X_test, Y_train, Y_test, model = Lin_Reg(df_minmax, target)\n",
    "Y_pred = model.predict(X_test)\n",
    "r2 = model.score(X_test, Y_test)\n",
    "rmse = (mean_squared_error(Y_test, Y_pred))**0.5\n",
    "\n",
    "fsel_list.append(\"Correlation Based\")\n",
    "ftrans_list.append(\"None\")\n",
    "fscal_list.append(\"MinMax\")\n",
    "r2_scores.append(r2)\n",
    "rmse_scores.append(rmse)"
   ]
  },
  {
   "cell_type": "markdown",
   "id": "6fe03adc",
   "metadata": {},
   "source": [
    "iv. Linear Regression model with All features, Polynomial Features and MinMax Scaling"
   ]
  },
  {
   "cell_type": "code",
   "execution_count": 54,
   "id": "b7c49013",
   "metadata": {},
   "outputs": [
    {
     "name": "stderr",
     "output_type": "stream",
     "text": [
      "C:\\Users\\Abhinav\\anaconda3\\lib\\site-packages\\sklearn\\utils\\deprecation.py:87: FutureWarning: Function get_feature_names is deprecated; get_feature_names is deprecated in 1.0 and will be removed in 1.2. Please use get_feature_names_out instead.\n",
      "  warnings.warn(msg, category=FutureWarning)\n"
     ]
    }
   ],
   "source": [
    "Poly_feat = polynom(features)\n",
    "Poly_scaled_df = Scalefunc(scaler,Poly_features)\n",
    "X_train, X_test, Y_train, Y_test, model = Lin_Reg(Poly_scaled_df, target)\n",
    "Y_pred = model.predict(X_test)\n",
    "r2 = model.score(X_test, Y_test)\n",
    "rmse = (mean_squared_error(Y_test, Y_pred))**0.5\n",
    "\n",
    "fsel_list.append(\"Correlation Based\")\n",
    "ftrans_list.append(\"Poly 2\")\n",
    "fscal_list.append(\"MinMax\")\n",
    "r2_scores.append(r2)\n",
    "rmse_scores.append(rmse)"
   ]
  },
  {
   "cell_type": "markdown",
   "id": "90827e06",
   "metadata": {},
   "source": [
    "v. Linear Regression model with Variance Threshold Selection"
   ]
  },
  {
   "cell_type": "code",
   "execution_count": 55,
   "id": "5ec18d68",
   "metadata": {},
   "outputs": [],
   "source": [
    "X_train, X_test, Y_train, Y_test, model = Lin_Reg(df_vt, target)\n",
    "Y_pred = model.predict(X_test)\n",
    "r2 = model.score(X_test, Y_test)\n",
    "rmse = (mean_squared_error(Y_test, Y_pred))**0.5\n",
    "\n",
    "fsel_list.append(\"VT\")\n",
    "ftrans_list.append(\"None\")\n",
    "fscal_list.append(\"None\")\n",
    "r2_scores.append(r2)\n",
    "rmse_scores.append(rmse)"
   ]
  },
  {
   "cell_type": "markdown",
   "id": "79bed1f1",
   "metadata": {},
   "source": [
    "vi. Linear Regression model with Variance Threshold Selection and Polynomial feature Transformation"
   ]
  },
  {
   "cell_type": "code",
   "execution_count": 56,
   "id": "98265b2d",
   "metadata": {},
   "outputs": [],
   "source": [
    "X_train, X_test, Y_train, Y_test, model = Lin_Reg(df_vt, target)\n",
    "Y_pred = model.predict(X_test)\n",
    "r2 = model.score(X_test, Y_test)\n",
    "rmse = (mean_squared_error(Y_test, Y_pred))**0.5\n",
    "\n",
    "fsel_list.append(\"VT\")\n",
    "ftrans_list.append(\"Poly 2\")\n",
    "fscal_list.append(\"None\")\n",
    "r2_scores.append(r2)\n",
    "rmse_scores.append(rmse)"
   ]
  },
  {
   "cell_type": "markdown",
   "id": "4bd19e9a",
   "metadata": {},
   "source": [
    "vii. Linear Regression model with Variance Threshold Selection and Feature scaling method"
   ]
  },
  {
   "cell_type": "code",
   "execution_count": 57,
   "id": "0961ec4f",
   "metadata": {},
   "outputs": [],
   "source": [
    "scaler = MinMaxScaler() #using minmax scaling method\n",
    "df_minmax = Scalefunc(scaler,df_vt)\n",
    "X_train, X_test, Y_train, Y_test, model = Lin_Reg(df_minmax, target)\n",
    "Y_pred = model.predict(X_test)\n",
    "r2 = model.score(X_test, Y_test)\n",
    "rmse = (mean_squared_error(Y_test, Y_pred))**0.5\n",
    "\n",
    "fsel_list.append(\"VT\")\n",
    "ftrans_list.append(\"None\")\n",
    "fscal_list.append(\"MinMax\")\n",
    "r2_scores.append(r2)\n",
    "rmse_scores.append(rmse)"
   ]
  },
  {
   "cell_type": "markdown",
   "id": "7b6be95a",
   "metadata": {},
   "source": [
    "viii. Linear Regression model with VAriance Threshold , Polynomial Features and MinMax Scaling"
   ]
  },
  {
   "cell_type": "code",
   "execution_count": 58,
   "id": "628d8d0b",
   "metadata": {},
   "outputs": [
    {
     "name": "stderr",
     "output_type": "stream",
     "text": [
      "C:\\Users\\Abhinav\\anaconda3\\lib\\site-packages\\sklearn\\utils\\deprecation.py:87: FutureWarning: Function get_feature_names is deprecated; get_feature_names is deprecated in 1.0 and will be removed in 1.2. Please use get_feature_names_out instead.\n",
      "  warnings.warn(msg, category=FutureWarning)\n"
     ]
    }
   ],
   "source": [
    "Poly_feat = polynom(df_vt)\n",
    "Poly_scaled_df = Scalefunc(scaler,Poly_features)\n",
    "X_train, X_test, Y_train, Y_test, model = Lin_Reg(Poly_scaled_df, target)\n",
    "Y_pred = model.predict(X_test)\n",
    "r2 = model.score(X_test, Y_test)\n",
    "rmse = (mean_squared_error(Y_test, Y_pred))**0.5\n",
    "\n",
    "fsel_list.append(\"VT\")\n",
    "ftrans_list.append(\"Poly 2\")\n",
    "fscal_list.append(\"MinMax\")\n",
    "r2_scores.append(r2)\n",
    "rmse_scores.append(rmse)"
   ]
  },
  {
   "cell_type": "markdown",
   "id": "54dcedf3",
   "metadata": {},
   "source": [
    "ix. Linear Regression model with SelectKBest Selection"
   ]
  },
  {
   "cell_type": "code",
   "execution_count": 59,
   "id": "d406976e",
   "metadata": {},
   "outputs": [],
   "source": [
    "X_train, X_test, Y_train, Y_test, model = Lin_Reg(df_selKBest, target)\n",
    "Y_pred = model.predict(X_test)\n",
    "r2 = model.score(X_test, Y_test)\n",
    "rmse = (mean_squared_error(Y_test, Y_pred))**0.5\n",
    "\n",
    "fsel_list.append(\"SelectKBest\")\n",
    "ftrans_list.append(\"None\")\n",
    "fscal_list.append(\"None\")\n",
    "r2_scores.append(r2)\n",
    "rmse_scores.append(rmse)"
   ]
  },
  {
   "cell_type": "markdown",
   "id": "45ad7f32",
   "metadata": {},
   "source": [
    "x. Linear Regression model with SelectKBest Selection polynomial transformation"
   ]
  },
  {
   "cell_type": "code",
   "execution_count": 60,
   "id": "253c5a12",
   "metadata": {},
   "outputs": [],
   "source": [
    "X_train, X_test, Y_train, Y_test, model = Lin_Reg(df_selKBest, target)\n",
    "Y_pred = model.predict(X_test)\n",
    "r2 = model.score(X_test, Y_test)\n",
    "rmse = (mean_squared_error(Y_test, Y_pred))**0.5\n",
    "\n",
    "fsel_list.append(\"SelectKBest\")\n",
    "ftrans_list.append(\"Poly 2\")\n",
    "fscal_list.append(\"None\")\n",
    "r2_scores.append(r2)\n",
    "rmse_scores.append(rmse)"
   ]
  },
  {
   "cell_type": "markdown",
   "id": "8884701b",
   "metadata": {},
   "source": [
    "xi. Linear Regression model with SelectKBest Selection and scaled features"
   ]
  },
  {
   "cell_type": "code",
   "execution_count": 61,
   "id": "fcbe8166",
   "metadata": {},
   "outputs": [],
   "source": [
    "scaler = MinMaxScaler() #using minmax scaling method\n",
    "df_minmax = Scalefunc(scaler,df_selKBest)\n",
    "X_train, X_test, Y_train, Y_test, model = Lin_Reg(df_minmax, target)\n",
    "Y_pred = model.predict(X_test)\n",
    "r2 = model.score(X_test, Y_test)\n",
    "rmse = (mean_squared_error(Y_test, Y_pred))**0.5\n",
    "\n",
    "fsel_list.append(\"SelectKBest\")\n",
    "ftrans_list.append(\"None\")\n",
    "fscal_list.append(\"MinMax\")\n",
    "r2_scores.append(r2)\n",
    "rmse_scores.append(rmse)"
   ]
  },
  {
   "cell_type": "markdown",
   "id": "f2bb9051",
   "metadata": {},
   "source": [
    "xii. Linear Regression model with SelectKBest , Polynomial Features and MinMax Scaling"
   ]
  },
  {
   "cell_type": "code",
   "execution_count": 62,
   "id": "21e8fa9f",
   "metadata": {},
   "outputs": [
    {
     "name": "stderr",
     "output_type": "stream",
     "text": [
      "C:\\Users\\Abhinav\\anaconda3\\lib\\site-packages\\sklearn\\utils\\deprecation.py:87: FutureWarning: Function get_feature_names is deprecated; get_feature_names is deprecated in 1.0 and will be removed in 1.2. Please use get_feature_names_out instead.\n",
      "  warnings.warn(msg, category=FutureWarning)\n"
     ]
    }
   ],
   "source": [
    "Poly_feat = polynom(df_selKBest)\n",
    "Poly_scaled_df = Scalefunc(scaler,Poly_features)\n",
    "X_train, X_test, Y_train, Y_test, model = Lin_Reg(Poly_scaled_df, target)\n",
    "Y_pred = model.predict(X_test)\n",
    "r2 = model.score(X_test, Y_test)\n",
    "rmse = (mean_squared_error(Y_test, Y_pred))**0.5\n",
    "\n",
    "fsel_list.append(\"SelectKBest\")\n",
    "ftrans_list.append(\"Poly 2\")\n",
    "fscal_list.append(\"MinMax\")\n",
    "r2_scores.append(r2)\n",
    "rmse_scores.append(rmse)"
   ]
  },
  {
   "cell_type": "code",
   "execution_count": 63,
   "id": "b696fa4c",
   "metadata": {},
   "outputs": [
    {
     "data": {
      "text/html": [
       "<div>\n",
       "<style scoped>\n",
       "    .dataframe tbody tr th:only-of-type {\n",
       "        vertical-align: middle;\n",
       "    }\n",
       "\n",
       "    .dataframe tbody tr th {\n",
       "        vertical-align: top;\n",
       "    }\n",
       "\n",
       "    .dataframe thead th {\n",
       "        text-align: right;\n",
       "    }\n",
       "</style>\n",
       "<table border=\"1\" class=\"dataframe\">\n",
       "  <thead>\n",
       "    <tr style=\"text-align: right;\">\n",
       "      <th></th>\n",
       "      <th>Feature Selection</th>\n",
       "      <th>Feature Transformation</th>\n",
       "      <th>Feature Scaling</th>\n",
       "      <th>R2</th>\n",
       "      <th>RMSE</th>\n",
       "    </tr>\n",
       "  </thead>\n",
       "  <tbody>\n",
       "    <tr>\n",
       "      <th>0</th>\n",
       "      <td>Correlation Based</td>\n",
       "      <td>None</td>\n",
       "      <td>None</td>\n",
       "      <td>0.765479</td>\n",
       "      <td>2478.222642</td>\n",
       "    </tr>\n",
       "    <tr>\n",
       "      <th>1</th>\n",
       "      <td>Correlation Based</td>\n",
       "      <td>Poly 2</td>\n",
       "      <td>None</td>\n",
       "      <td>0.793183</td>\n",
       "      <td>2327.243576</td>\n",
       "    </tr>\n",
       "    <tr>\n",
       "      <th>2</th>\n",
       "      <td>Correlation Based</td>\n",
       "      <td>None</td>\n",
       "      <td>MinMax</td>\n",
       "      <td>0.765479</td>\n",
       "      <td>2478.222642</td>\n",
       "    </tr>\n",
       "    <tr>\n",
       "      <th>3</th>\n",
       "      <td>Correlation Based</td>\n",
       "      <td>Poly 2</td>\n",
       "      <td>MinMax</td>\n",
       "      <td>0.793183</td>\n",
       "      <td>2327.243576</td>\n",
       "    </tr>\n",
       "    <tr>\n",
       "      <th>4</th>\n",
       "      <td>VT</td>\n",
       "      <td>None</td>\n",
       "      <td>None</td>\n",
       "      <td>0.679558</td>\n",
       "      <td>2896.838005</td>\n",
       "    </tr>\n",
       "    <tr>\n",
       "      <th>5</th>\n",
       "      <td>VT</td>\n",
       "      <td>Poly 2</td>\n",
       "      <td>None</td>\n",
       "      <td>0.679558</td>\n",
       "      <td>2896.838005</td>\n",
       "    </tr>\n",
       "    <tr>\n",
       "      <th>6</th>\n",
       "      <td>VT</td>\n",
       "      <td>None</td>\n",
       "      <td>MinMax</td>\n",
       "      <td>0.679558</td>\n",
       "      <td>2896.838005</td>\n",
       "    </tr>\n",
       "    <tr>\n",
       "      <th>7</th>\n",
       "      <td>VT</td>\n",
       "      <td>Poly 2</td>\n",
       "      <td>MinMax</td>\n",
       "      <td>0.793183</td>\n",
       "      <td>2327.243576</td>\n",
       "    </tr>\n",
       "    <tr>\n",
       "      <th>8</th>\n",
       "      <td>SelectKBest</td>\n",
       "      <td>None</td>\n",
       "      <td>None</td>\n",
       "      <td>0.773519</td>\n",
       "      <td>2435.369177</td>\n",
       "    </tr>\n",
       "    <tr>\n",
       "      <th>9</th>\n",
       "      <td>SelectKBest</td>\n",
       "      <td>Poly 2</td>\n",
       "      <td>None</td>\n",
       "      <td>0.773519</td>\n",
       "      <td>2435.369177</td>\n",
       "    </tr>\n",
       "    <tr>\n",
       "      <th>10</th>\n",
       "      <td>SelectKBest</td>\n",
       "      <td>None</td>\n",
       "      <td>MinMax</td>\n",
       "      <td>0.773519</td>\n",
       "      <td>2435.369177</td>\n",
       "    </tr>\n",
       "    <tr>\n",
       "      <th>11</th>\n",
       "      <td>SelectKBest</td>\n",
       "      <td>Poly 2</td>\n",
       "      <td>MinMax</td>\n",
       "      <td>0.793183</td>\n",
       "      <td>2327.243576</td>\n",
       "    </tr>\n",
       "  </tbody>\n",
       "</table>\n",
       "</div>"
      ],
      "text/plain": [
       "    Feature Selection Feature Transformation Feature Scaling        R2  \\\n",
       "0   Correlation Based                   None            None  0.765479   \n",
       "1   Correlation Based                 Poly 2            None  0.793183   \n",
       "2   Correlation Based                   None          MinMax  0.765479   \n",
       "3   Correlation Based                 Poly 2          MinMax  0.793183   \n",
       "4                  VT                   None            None  0.679558   \n",
       "5                  VT                 Poly 2            None  0.679558   \n",
       "6                  VT                   None          MinMax  0.679558   \n",
       "7                  VT                 Poly 2          MinMax  0.793183   \n",
       "8         SelectKBest                   None            None  0.773519   \n",
       "9         SelectKBest                 Poly 2            None  0.773519   \n",
       "10        SelectKBest                   None          MinMax  0.773519   \n",
       "11        SelectKBest                 Poly 2          MinMax  0.793183   \n",
       "\n",
       "           RMSE  \n",
       "0   2478.222642  \n",
       "1   2327.243576  \n",
       "2   2478.222642  \n",
       "3   2327.243576  \n",
       "4   2896.838005  \n",
       "5   2896.838005  \n",
       "6   2896.838005  \n",
       "7   2327.243576  \n",
       "8   2435.369177  \n",
       "9   2435.369177  \n",
       "10  2435.369177  \n",
       "11  2327.243576  "
      ]
     },
     "execution_count": 63,
     "metadata": {},
     "output_type": "execute_result"
    }
   ],
   "source": [
    "df_result = pd.DataFrame(list(zip(fsel_list, ftrans_list,fscal_list,r2_scores,rmse_scores)),   #making summary table\n",
    "               columns =['Feature Selection', 'Feature Transformation', 'Feature Scaling', 'R2', 'RMSE'])\n",
    "df_result"
   ]
  },
  {
   "cell_type": "code",
   "execution_count": 64,
   "id": "aaf3b163",
   "metadata": {},
   "outputs": [
    {
     "data": {
      "text/html": [
       "<div>\n",
       "<style scoped>\n",
       "    .dataframe tbody tr th:only-of-type {\n",
       "        vertical-align: middle;\n",
       "    }\n",
       "\n",
       "    .dataframe tbody tr th {\n",
       "        vertical-align: top;\n",
       "    }\n",
       "\n",
       "    .dataframe thead th {\n",
       "        text-align: right;\n",
       "    }\n",
       "</style>\n",
       "<table border=\"1\" class=\"dataframe\">\n",
       "  <thead>\n",
       "    <tr style=\"text-align: right;\">\n",
       "      <th></th>\n",
       "      <th>Feature Selection</th>\n",
       "      <th>Feature Transformation</th>\n",
       "      <th>Feature Scaling</th>\n",
       "      <th>R2</th>\n",
       "      <th>RMSE</th>\n",
       "    </tr>\n",
       "  </thead>\n",
       "  <tbody>\n",
       "    <tr>\n",
       "      <th>1</th>\n",
       "      <td>Correlation Based</td>\n",
       "      <td>Poly 2</td>\n",
       "      <td>None</td>\n",
       "      <td>0.793183</td>\n",
       "      <td>2327.243576</td>\n",
       "    </tr>\n",
       "  </tbody>\n",
       "</table>\n",
       "</div>"
      ],
      "text/plain": [
       "   Feature Selection Feature Transformation Feature Scaling        R2  \\\n",
       "1  Correlation Based                 Poly 2            None  0.793183   \n",
       "\n",
       "          RMSE  \n",
       "1  2327.243576  "
      ]
     },
     "execution_count": 64,
     "metadata": {},
     "output_type": "execute_result"
    }
   ],
   "source": [
    "df_result.sort_values(by=['RMSE', 'R2'], ascending=[True, False]).head(1)"
   ]
  },
  {
   "cell_type": "markdown",
   "id": "c45652b0",
   "metadata": {},
   "source": [
    "As we can see here the best model that fits here is the one with correlation based features with polynomial transformation"
   ]
  },
  {
   "cell_type": "markdown",
   "id": "5a184865",
   "metadata": {},
   "source": [
    "SCatter plot of predicted vs actual values"
   ]
  },
  {
   "cell_type": "code",
   "execution_count": 65,
   "id": "0cdfee36",
   "metadata": {},
   "outputs": [
    {
     "data": {
      "text/plain": [
       "Text(0.5, 1.0, 'Linear Regression Model to Predict Car price')"
      ]
     },
     "execution_count": 65,
     "metadata": {},
     "output_type": "execute_result"
    },
    {
     "data": {
      "image/png": "[encoded data removed]",
      "text/plain": [
       "<Figure size 432x288 with 1 Axes>"
      ]
     },
     "metadata": {},
     "output_type": "display_data"
    }
   ],
   "source": [
    "plt.scatter(Y_pred, Y_test, alpha=0.5)\n",
    "plt.ylabel('Actual Price')\n",
    "plt.xlabel('Predicted Price')\n",
    "plt.title('Linear Regression Model to Predict Car price')"
   ]
  },
  {
   "cell_type": "code",
   "execution_count": 66,
   "id": "92d942b6",
   "metadata": {},
   "outputs": [
    {
     "data": {
      "text/html": [
       "<div>\n",
       "<style scoped>\n",
       "    .dataframe tbody tr th:only-of-type {\n",
       "        vertical-align: middle;\n",
       "    }\n",
       "\n",
       "    .dataframe tbody tr th {\n",
       "        vertical-align: top;\n",
       "    }\n",
       "\n",
       "    .dataframe thead th {\n",
       "        text-align: right;\n",
       "    }\n",
       "</style>\n",
       "<table border=\"1\" class=\"dataframe\">\n",
       "  <thead>\n",
       "    <tr style=\"text-align: right;\">\n",
       "      <th></th>\n",
       "      <th>Feature</th>\n",
       "      <th>Coefficients</th>\n",
       "    </tr>\n",
       "  </thead>\n",
       "  <tbody>\n",
       "    <tr>\n",
       "      <th>0</th>\n",
       "      <td>curb_weight</td>\n",
       "      <td>-246274.4225822274</td>\n",
       "    </tr>\n",
       "    <tr>\n",
       "      <th>1</th>\n",
       "      <td>engine-size</td>\n",
       "      <td>59650.753309474174</td>\n",
       "    </tr>\n",
       "    <tr>\n",
       "      <th>2</th>\n",
       "      <td>width</td>\n",
       "      <td>-56651.70967024051</td>\n",
       "    </tr>\n",
       "    <tr>\n",
       "      <th>3</th>\n",
       "      <td>length</td>\n",
       "      <td>3243.801912151781</td>\n",
       "    </tr>\n",
       "    <tr>\n",
       "      <th>4</th>\n",
       "      <td>curb_weight engine-size</td>\n",
       "      <td>-5696.741213853737</td>\n",
       "    </tr>\n",
       "    <tr>\n",
       "      <th>5</th>\n",
       "      <td>curb_weight width</td>\n",
       "      <td>359685.71766389965</td>\n",
       "    </tr>\n",
       "    <tr>\n",
       "      <th>6</th>\n",
       "      <td>curb_weight length</td>\n",
       "      <td>-72122.8436186319</td>\n",
       "    </tr>\n",
       "    <tr>\n",
       "      <th>7</th>\n",
       "      <td>engine-size width</td>\n",
       "      <td>-14768.76265773579</td>\n",
       "    </tr>\n",
       "    <tr>\n",
       "      <th>8</th>\n",
       "      <td>engine-size length</td>\n",
       "      <td>-39019.916007072694</td>\n",
       "    </tr>\n",
       "    <tr>\n",
       "      <th>9</th>\n",
       "      <td>width length</td>\n",
       "      <td>30423.790464615624</td>\n",
       "    </tr>\n",
       "  </tbody>\n",
       "</table>\n",
       "</div>"
      ],
      "text/plain": [
       "                   Feature         Coefficients\n",
       "0              curb_weight   -246274.4225822274\n",
       "1              engine-size   59650.753309474174\n",
       "2                    width   -56651.70967024051\n",
       "3                   length    3243.801912151781\n",
       "4  curb_weight engine-size   -5696.741213853737\n",
       "5        curb_weight width   359685.71766389965\n",
       "6       curb_weight length    -72122.8436186319\n",
       "7        engine-size width   -14768.76265773579\n",
       "8       engine-size length  -39019.916007072694\n",
       "9             width length   30423.790464615624"
      ]
     },
     "execution_count": 66,
     "metadata": {},
     "output_type": "execute_result"
    }
   ],
   "source": [
    "# Displaying coefficient list\n",
    "feature_list = list(X_train.columns)\n",
    "coeff = model.coef_.transpose()\n",
    "coeff_table = np.vstack((feature_list, coeff)).T\n",
    "\n",
    "coeff_df = pd.DataFrame(coeff_table, columns=['Feature', 'Coefficients'])\n",
    "coeff_df"
   ]
  },
  {
   "cell_type": "markdown",
   "id": "caf4feea",
   "metadata": {},
   "source": [
    "Prediction with sample and evaluating the model"
   ]
  },
  {
   "cell_type": "code",
   "execution_count": 67,
   "id": "38faae41",
   "metadata": {},
   "outputs": [],
   "source": [
    "featSel_list = [Poly_scaled_df, df_selKBest,df_corr]\n",
    "featSel_method = ['Manual', 'Variance Threshhold', 'SelectKBest']"
   ]
  },
  {
   "cell_type": "code",
   "execution_count": null,
   "id": "5b98ab7e",
   "metadata": {},
   "outputs": [],
   "source": []
  },
  {
   "cell_type": "code",
   "execution_count": null,
   "id": "d4bb13df",
   "metadata": {},
   "outputs": [],
   "source": []
  }
 ],
 "metadata": {
  "kernelspec": {
   "display_name": "Python 3 (ipykernel)",
   "language": "python",
   "name": "python3"
  },
  "language_info": {
   "codemirror_mode": {
    "name": "ipython",
    "version": 3
   },
   "file_extension": ".py",
   "mimetype": "text/x-python",
   "name": "python",
   "nbconvert_exporter": "python",
   "pygments_lexer": "ipython3",
   "version": "3.9.12"
  }
 },
 "nbformat": 4,
 "nbformat_minor": 5
}
